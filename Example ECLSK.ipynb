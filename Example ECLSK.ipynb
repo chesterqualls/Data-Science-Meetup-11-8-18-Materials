{
 "cells": [
  {
   "cell_type": "markdown",
   "metadata": {},
   "source": [
    "## <center>Example from Data Science Meetup <br> Presented 11/8/2018 by Gabriela Stegmann</center>\n",
    "\n",
    "* I moved the R code into a Jupyter Notebook/R Kernel.\n",
    "* Site of original from Gabriela https://github.com/gabistegmann/Data-Science-Meetup-11-8-18-Materials\n",
    "* Made a few minor changes so I could play with R a bit.\n",
    "* rpart documentation (https://www.rdocumentation.org/packages/rpart/versions/4.1-13/topics/rpart)\n",
    "* rpart.plot documentation (https://www.rdocumentation.org/packages/rpart.plot/versions/3.0.4/topics/rpart.plot)\n",
    "* Info on regression trees - https://www.solver.com/regression-trees"
   ]
  },
  {
   "cell_type": "code",
   "execution_count": 43,
   "metadata": {},
   "outputs": [],
   "source": [
    "#setwd(\"C:/Users/Chester Qualls/Dropbox/Jupyter Notebooks/Misc Data\")\n",
    "#setwd(\"https://raw.githubusercontent.com/chesterqualls/Data-Science-Meetup-11-8-18-Materials/master/\")"
   ]
  },
  {
   "cell_type": "code",
   "execution_count": 109,
   "metadata": {},
   "outputs": [
    {
     "data": {
      "text/html": [
       "<table>\n",
       "<thead><tr><th scope=col>GENDER</th><th scope=col>POVRTY</th><th scope=col>RACE</th><th scope=col>KINDER1</th><th scope=col>FMOTOR</th><th scope=col>GMOTOR</th><th scope=col>SCONTROL</th><th scope=col>INTERP</th><th scope=col>EXTERN</th><th scope=col>INTERN</th><th scope=col>GENERAL</th><th scope=col>MATH7</th><th scope=col>MOM_ED</th></tr></thead>\n",
       "<tbody>\n",
       "\t<tr><td>2   </td><td>2   </td><td>1   </td><td>1   </td><td>6   </td><td>8   </td><td>3.50</td><td>4.0 </td><td>1.0 </td><td>1.25</td><td>38  </td><td>2.16</td><td>3   </td></tr>\n",
       "\t<tr><td>1   </td><td>2   </td><td>1   </td><td>1   </td><td>6   </td><td>2   </td><td>2.00</td><td>2.2 </td><td>2.8 </td><td>2.25</td><td>19  </td><td>1.14</td><td>6   </td></tr>\n",
       "\t<tr><td>2   </td><td>2   </td><td>4   </td><td>1   </td><td>8   </td><td>8   </td><td>4.00</td><td>4.0 </td><td>1.2 </td><td>1.25</td><td>33  </td><td>2.04</td><td>8   </td></tr>\n",
       "\t<tr><td>2   </td><td>2   </td><td>1   </td><td>1   </td><td>6   </td><td>7   </td><td>3.25</td><td>3.2 </td><td>1.2 </td><td>2.75</td><td>27  </td><td>1.42</td><td>7   </td></tr>\n",
       "\t<tr><td>1   </td><td>1   </td><td>1   </td><td>1   </td><td>7   </td><td>5   </td><td>3.00</td><td>2.2 </td><td>1.8 </td><td>1.25</td><td>23  </td><td>1.70</td><td>3   </td></tr>\n",
       "\t<tr><td>2   </td><td>2   </td><td>1   </td><td>1   </td><td>5   </td><td>6   </td><td>3.50</td><td>3.4 </td><td>1.6 </td><td>1.50</td><td>25  </td><td>2.00</td><td>6   </td></tr>\n",
       "\t<tr><td>2   </td><td>2   </td><td>1   </td><td>1   </td><td>7   </td><td>3   </td><td>1.50</td><td>2.0 </td><td>3.6 </td><td>2.25</td><td>15  </td><td>1.26</td><td>4   </td></tr>\n",
       "\t<tr><td>2   </td><td>2   </td><td>1   </td><td>1   </td><td>5   </td><td>3   </td><td>2.75</td><td>2.8 </td><td>1.4 </td><td>1.25</td><td>28  </td><td>1.40</td><td>5   </td></tr>\n",
       "\t<tr><td>1   </td><td>2   </td><td>1   </td><td>2   </td><td>8   </td><td>8   </td><td>3.00</td><td>2.8 </td><td>1.8 </td><td>1.50</td><td>34  </td><td>1.69</td><td>5   </td></tr>\n",
       "\t<tr><td>2   </td><td>2   </td><td>1   </td><td>2   </td><td>5   </td><td>7   </td><td>3.50</td><td>3.2 </td><td>1.0 </td><td>2.00</td><td>38  </td><td>2.20</td><td>3   </td></tr>\n",
       "\t<tr><td>2   </td><td>2   </td><td>1   </td><td>1   </td><td>6   </td><td>3   </td><td>3.50</td><td>3.6 </td><td>1.0 </td><td>1.50</td><td>22  </td><td>1.34</td><td>3   </td></tr>\n",
       "\t<tr><td>2   </td><td>1   </td><td>3   </td><td>1   </td><td>4   </td><td>4   </td><td>3.50</td><td>3.6 </td><td>1.0 </td><td>1.50</td><td>16  </td><td>1.56</td><td>2   </td></tr>\n",
       "\t<tr><td>2   </td><td>1   </td><td>1   </td><td>1   </td><td>4   </td><td>2   </td><td>3.50</td><td>3.2 </td><td>1.0 </td><td>1.50</td><td>19  </td><td>1.21</td><td>3   </td></tr>\n",
       "\t<tr><td>2   </td><td>1   </td><td>1   </td><td>1   </td><td>2   </td><td>7   </td><td>3.25</td><td>3.0 </td><td>1.6 </td><td>2.25</td><td>18  </td><td>1.09</td><td>3   </td></tr>\n",
       "\t<tr><td>1   </td><td>2   </td><td>1   </td><td>1   </td><td>6   </td><td>4   </td><td>3.50</td><td>3.4 </td><td>1.6 </td><td>1.75</td><td>18  </td><td>1.42</td><td>6   </td></tr>\n",
       "\t<tr><td>1   </td><td>2   </td><td>1   </td><td>1   </td><td>2   </td><td>6   </td><td>3.50</td><td>3.0 </td><td>1.2 </td><td>2.00</td><td>17  </td><td>1.24</td><td>3   </td></tr>\n",
       "\t<tr><td>1   </td><td>2   </td><td>1   </td><td>1   </td><td>3   </td><td>1   </td><td>3.00</td><td>3.0 </td><td>1.0 </td><td>1.00</td><td>18  </td><td>1.96</td><td>3   </td></tr>\n",
       "\t<tr><td>2   </td><td>2   </td><td>1   </td><td>1   </td><td>8   </td><td>8   </td><td>2.75</td><td>2.6 </td><td>1.0 </td><td>1.00</td><td>22  </td><td>1.26</td><td>3   </td></tr>\n",
       "\t<tr><td>2   </td><td>2   </td><td>1   </td><td>1   </td><td>5   </td><td>8   </td><td>4.00</td><td>4.0 </td><td>1.0 </td><td>1.00</td><td>20  </td><td>1.66</td><td>3   </td></tr>\n",
       "\t<tr><td>1   </td><td>1   </td><td>1   </td><td>1   </td><td>2   </td><td>4   </td><td>3.50</td><td>3.4 </td><td>1.2 </td><td>1.25</td><td>18  </td><td>1.39</td><td>1   </td></tr>\n",
       "\t<tr><td>1   </td><td>2   </td><td>1   </td><td>1   </td><td>8   </td><td>8   </td><td>2.50</td><td>2.6 </td><td>1.4 </td><td>1.25</td><td>24  </td><td>1.21</td><td>6   </td></tr>\n",
       "\t<tr><td>1   </td><td>2   </td><td>1   </td><td>1   </td><td>6   </td><td>8   </td><td>2.50</td><td>2.4 </td><td>2.0 </td><td>1.25</td><td>33  </td><td>2.01</td><td>5   </td></tr>\n",
       "\t<tr><td>2   </td><td>2   </td><td>1   </td><td>1   </td><td>7   </td><td>6   </td><td>3.50</td><td>3.6 </td><td>1.2 </td><td>1.25</td><td>35  </td><td>1.47</td><td>6   </td></tr>\n",
       "\t<tr><td>1   </td><td>2   </td><td>1   </td><td>1   </td><td>4   </td><td>6   </td><td>3.25</td><td>3.0 </td><td>2.0 </td><td>1.75</td><td>24  </td><td>1.65</td><td>6   </td></tr>\n",
       "\t<tr><td>2   </td><td>2   </td><td>1   </td><td>1   </td><td>3   </td><td>4   </td><td>3.00</td><td>3.4 </td><td>1.4 </td><td>1.50</td><td>29  </td><td>1.28</td><td>3   </td></tr>\n",
       "\t<tr><td>1   </td><td>2   </td><td>1   </td><td>1   </td><td>6   </td><td>4   </td><td>2.50</td><td>2.4 </td><td>1.8 </td><td>1.75</td><td>19  </td><td>1.47</td><td>7   </td></tr>\n",
       "\t<tr><td>2   </td><td>2   </td><td>1   </td><td>1   </td><td>8   </td><td>6   </td><td>3.00</td><td>3.0 </td><td>1.6 </td><td>1.50</td><td>31  </td><td>1.85</td><td>6   </td></tr>\n",
       "\t<tr><td>1   </td><td>2   </td><td>1   </td><td>1   </td><td>9   </td><td>6   </td><td>3.50</td><td>3.4 </td><td>1.6 </td><td>1.00</td><td>36  </td><td>2.09</td><td>6   </td></tr>\n",
       "\t<tr><td>1   </td><td>2   </td><td>1   </td><td>1   </td><td>7   </td><td>5   </td><td>3.25</td><td>3.4 </td><td>1.4 </td><td>1.25</td><td>28  </td><td>1.72</td><td>5   </td></tr>\n",
       "\t<tr><td>2   </td><td>1   </td><td>1   </td><td>1   </td><td>0   </td><td>2   </td><td>2.75</td><td>2.8 </td><td>1.2 </td><td>2.00</td><td>20  </td><td>0.83</td><td>2   </td></tr>\n",
       "\t<tr><td>...</td><td>...</td><td>...</td><td>...</td><td>...</td><td>...</td><td>...</td><td>...</td><td>...</td><td>...</td><td>...</td><td>...</td><td>...</td></tr>\n",
       "\t<tr><td>1   </td><td>2   </td><td>1   </td><td>1   </td><td>8   </td><td>4   </td><td>3.25</td><td>3.2 </td><td>1.4 </td><td>1.50</td><td>32  </td><td>2.03</td><td>8   </td></tr>\n",
       "\t<tr><td>2   </td><td>2   </td><td>1   </td><td>1   </td><td>9   </td><td>6   </td><td>3.50</td><td>3.2 </td><td>1.4 </td><td>2.00</td><td>18  </td><td>1.73</td><td>3   </td></tr>\n",
       "\t<tr><td>2   </td><td>2   </td><td>1   </td><td>1   </td><td>6   </td><td>7   </td><td>3.25</td><td>3.2 </td><td>1.8 </td><td>1.00</td><td>33  </td><td>1.40</td><td>3   </td></tr>\n",
       "\t<tr><td>2   </td><td>1   </td><td>2   </td><td>1   </td><td>6   </td><td>7   </td><td>3.75</td><td>4.0 </td><td>1.2 </td><td>1.00</td><td>20  </td><td>0.66</td><td>3   </td></tr>\n",
       "\t<tr><td>2   </td><td>2   </td><td>1   </td><td>1   </td><td>9   </td><td>8   </td><td>3.25</td><td>3.4 </td><td>1.2 </td><td>1.00</td><td>21  </td><td>1.73</td><td>3   </td></tr>\n",
       "\t<tr><td>2   </td><td>2   </td><td>1   </td><td>1   </td><td>6   </td><td>5   </td><td>3.50</td><td>3.0 </td><td>1.4 </td><td>1.50</td><td>16  </td><td>1.33</td><td>5   </td></tr>\n",
       "\t<tr><td>2   </td><td>2   </td><td>1   </td><td>1   </td><td>8   </td><td>4   </td><td>3.25</td><td>3.2 </td><td>1.2 </td><td>2.00</td><td>19  </td><td>1.17</td><td>1   </td></tr>\n",
       "\t<tr><td>2   </td><td>2   </td><td>1   </td><td>1   </td><td>9   </td><td>8   </td><td>3.75</td><td>3.8 </td><td>1.0 </td><td>1.00</td><td>13  </td><td>1.53</td><td>4   </td></tr>\n",
       "\t<tr><td>2   </td><td>1   </td><td>1   </td><td>1   </td><td>6   </td><td>8   </td><td>3.25</td><td>3.0 </td><td>1.6 </td><td>1.75</td><td>14  </td><td>1.15</td><td>3   </td></tr>\n",
       "\t<tr><td>1   </td><td>2   </td><td>1   </td><td>1   </td><td>6   </td><td>7   </td><td>3.25</td><td>2.6 </td><td>1.6 </td><td>2.25</td><td>24  </td><td>1.18</td><td>5   </td></tr>\n",
       "\t<tr><td>2   </td><td>1   </td><td>3   </td><td>1   </td><td>6   </td><td>4   </td><td>3.00</td><td>3.0 </td><td>1.4 </td><td>3.00</td><td>10  </td><td>1.54</td><td>1   </td></tr>\n",
       "\t<tr><td>2   </td><td>1   </td><td>1   </td><td>1   </td><td>7   </td><td>7   </td><td>3.00</td><td>2.8 </td><td>2.0 </td><td>1.00</td><td> 8  </td><td>0.64</td><td>3   </td></tr>\n",
       "\t<tr><td>2   </td><td>2   </td><td>1   </td><td>1   </td><td>6   </td><td>8   </td><td>3.00</td><td>3.4 </td><td>1.0 </td><td>1.00</td><td>21  </td><td>1.28</td><td>5   </td></tr>\n",
       "\t<tr><td>2   </td><td>2   </td><td>1   </td><td>1   </td><td>4   </td><td>7   </td><td>3.75</td><td>4.0 </td><td>1.0 </td><td>2.00</td><td>26  </td><td>1.50</td><td>5   </td></tr>\n",
       "\t<tr><td>1   </td><td>2   </td><td>1   </td><td>1   </td><td>4   </td><td>4   </td><td>2.75</td><td>1.8 </td><td>4.0 </td><td>2.25</td><td>19  </td><td>1.42</td><td>5   </td></tr>\n",
       "\t<tr><td>2   </td><td>2   </td><td>1   </td><td>1   </td><td>2   </td><td>5   </td><td>3.75</td><td>3.8 </td><td>1.6 </td><td>1.50</td><td>17  </td><td>0.87</td><td>3   </td></tr>\n",
       "\t<tr><td>1   </td><td>2   </td><td>1   </td><td>1   </td><td>7   </td><td>6   </td><td>3.00</td><td>3.2 </td><td>1.4 </td><td>1.25</td><td>29  </td><td>1.60</td><td>5   </td></tr>\n",
       "\t<tr><td>1   </td><td>2   </td><td>1   </td><td>1   </td><td>8   </td><td>6   </td><td>3.00</td><td>3.0 </td><td>1.2 </td><td>1.00</td><td>19  </td><td>1.30</td><td>5   </td></tr>\n",
       "\t<tr><td>2   </td><td>1   </td><td>2   </td><td>1   </td><td>7   </td><td>8   </td><td>3.75</td><td>3.8 </td><td>1.0 </td><td>1.00</td><td>25  </td><td>1.69</td><td>5   </td></tr>\n",
       "\t<tr><td>1   </td><td>2   </td><td>1   </td><td>1   </td><td>4   </td><td>7   </td><td>3.00</td><td>2.8 </td><td>2.2 </td><td>1.00</td><td>24  </td><td>1.39</td><td>4   </td></tr>\n",
       "\t<tr><td>2   </td><td>1   </td><td>3   </td><td>1   </td><td>8   </td><td>4   </td><td>4.00</td><td>4.0 </td><td>1.0 </td><td>1.25</td><td>13  </td><td>1.17</td><td>5   </td></tr>\n",
       "\t<tr><td>1   </td><td>2   </td><td>4   </td><td>1   </td><td>8   </td><td>6   </td><td>4.00</td><td>4.0 </td><td>1.0 </td><td>1.25</td><td>26  </td><td>0.81</td><td>7   </td></tr>\n",
       "\t<tr><td>2   </td><td>1   </td><td>1   </td><td>1   </td><td>5   </td><td>4   </td><td>3.50</td><td>2.8 </td><td>1.4 </td><td>1.25</td><td>10  </td><td>1.78</td><td>4   </td></tr>\n",
       "\t<tr><td>1   </td><td>1   </td><td>3   </td><td>1   </td><td>2   </td><td>3   </td><td>2.50</td><td>3.0 </td><td>2.2 </td><td>1.50</td><td>30  </td><td>0.69</td><td>5   </td></tr>\n",
       "\t<tr><td>2   </td><td>2   </td><td>1   </td><td>1   </td><td>6   </td><td>8   </td><td>3.50</td><td>4.0 </td><td>1.6 </td><td>2.25</td><td>33  </td><td>1.97</td><td>5   </td></tr>\n",
       "\t<tr><td>1   </td><td>2   </td><td>1   </td><td>1   </td><td>4   </td><td>2   </td><td>3.50</td><td>3.4 </td><td>1.0 </td><td>2.25</td><td>16  </td><td>1.77</td><td>5   </td></tr>\n",
       "\t<tr><td>2   </td><td>1   </td><td>1   </td><td>1   </td><td>8   </td><td>8   </td><td>3.00</td><td>3.4 </td><td>1.4 </td><td>1.50</td><td>19  </td><td>1.33</td><td>4   </td></tr>\n",
       "\t<tr><td>2   </td><td>2   </td><td>3   </td><td>2   </td><td>5   </td><td>7   </td><td>4.00</td><td>4.0 </td><td>1.0 </td><td>2.00</td><td>24  </td><td>1.81</td><td>3   </td></tr>\n",
       "\t<tr><td>2   </td><td>2   </td><td>1   </td><td>1   </td><td>9   </td><td>7   </td><td>3.75</td><td>4.0 </td><td>1.2 </td><td>1.25</td><td>32  </td><td>1.11</td><td>6   </td></tr>\n",
       "\t<tr><td>2   </td><td>1   </td><td>3   </td><td>1   </td><td>2   </td><td>5   </td><td>2.75</td><td>2.8 </td><td>1.0 </td><td>2.50</td><td>14  </td><td>1.14</td><td>2   </td></tr>\n",
       "</tbody>\n",
       "</table>\n"
      ],
      "text/latex": [
       "\\begin{tabular}{r|lllllllllllll}\n",
       " GENDER & POVRTY & RACE & KINDER1 & FMOTOR & GMOTOR & SCONTROL & INTERP & EXTERN & INTERN & GENERAL & MATH7 & MOM\\_ED\\\\\n",
       "\\hline\n",
       "\t 2    & 2    & 1    & 1    & 6    & 8    & 3.50 & 4.0  & 1.0  & 1.25 & 38   & 2.16 & 3   \\\\\n",
       "\t 1    & 2    & 1    & 1    & 6    & 2    & 2.00 & 2.2  & 2.8  & 2.25 & 19   & 1.14 & 6   \\\\\n",
       "\t 2    & 2    & 4    & 1    & 8    & 8    & 4.00 & 4.0  & 1.2  & 1.25 & 33   & 2.04 & 8   \\\\\n",
       "\t 2    & 2    & 1    & 1    & 6    & 7    & 3.25 & 3.2  & 1.2  & 2.75 & 27   & 1.42 & 7   \\\\\n",
       "\t 1    & 1    & 1    & 1    & 7    & 5    & 3.00 & 2.2  & 1.8  & 1.25 & 23   & 1.70 & 3   \\\\\n",
       "\t 2    & 2    & 1    & 1    & 5    & 6    & 3.50 & 3.4  & 1.6  & 1.50 & 25   & 2.00 & 6   \\\\\n",
       "\t 2    & 2    & 1    & 1    & 7    & 3    & 1.50 & 2.0  & 3.6  & 2.25 & 15   & 1.26 & 4   \\\\\n",
       "\t 2    & 2    & 1    & 1    & 5    & 3    & 2.75 & 2.8  & 1.4  & 1.25 & 28   & 1.40 & 5   \\\\\n",
       "\t 1    & 2    & 1    & 2    & 8    & 8    & 3.00 & 2.8  & 1.8  & 1.50 & 34   & 1.69 & 5   \\\\\n",
       "\t 2    & 2    & 1    & 2    & 5    & 7    & 3.50 & 3.2  & 1.0  & 2.00 & 38   & 2.20 & 3   \\\\\n",
       "\t 2    & 2    & 1    & 1    & 6    & 3    & 3.50 & 3.6  & 1.0  & 1.50 & 22   & 1.34 & 3   \\\\\n",
       "\t 2    & 1    & 3    & 1    & 4    & 4    & 3.50 & 3.6  & 1.0  & 1.50 & 16   & 1.56 & 2   \\\\\n",
       "\t 2    & 1    & 1    & 1    & 4    & 2    & 3.50 & 3.2  & 1.0  & 1.50 & 19   & 1.21 & 3   \\\\\n",
       "\t 2    & 1    & 1    & 1    & 2    & 7    & 3.25 & 3.0  & 1.6  & 2.25 & 18   & 1.09 & 3   \\\\\n",
       "\t 1    & 2    & 1    & 1    & 6    & 4    & 3.50 & 3.4  & 1.6  & 1.75 & 18   & 1.42 & 6   \\\\\n",
       "\t 1    & 2    & 1    & 1    & 2    & 6    & 3.50 & 3.0  & 1.2  & 2.00 & 17   & 1.24 & 3   \\\\\n",
       "\t 1    & 2    & 1    & 1    & 3    & 1    & 3.00 & 3.0  & 1.0  & 1.00 & 18   & 1.96 & 3   \\\\\n",
       "\t 2    & 2    & 1    & 1    & 8    & 8    & 2.75 & 2.6  & 1.0  & 1.00 & 22   & 1.26 & 3   \\\\\n",
       "\t 2    & 2    & 1    & 1    & 5    & 8    & 4.00 & 4.0  & 1.0  & 1.00 & 20   & 1.66 & 3   \\\\\n",
       "\t 1    & 1    & 1    & 1    & 2    & 4    & 3.50 & 3.4  & 1.2  & 1.25 & 18   & 1.39 & 1   \\\\\n",
       "\t 1    & 2    & 1    & 1    & 8    & 8    & 2.50 & 2.6  & 1.4  & 1.25 & 24   & 1.21 & 6   \\\\\n",
       "\t 1    & 2    & 1    & 1    & 6    & 8    & 2.50 & 2.4  & 2.0  & 1.25 & 33   & 2.01 & 5   \\\\\n",
       "\t 2    & 2    & 1    & 1    & 7    & 6    & 3.50 & 3.6  & 1.2  & 1.25 & 35   & 1.47 & 6   \\\\\n",
       "\t 1    & 2    & 1    & 1    & 4    & 6    & 3.25 & 3.0  & 2.0  & 1.75 & 24   & 1.65 & 6   \\\\\n",
       "\t 2    & 2    & 1    & 1    & 3    & 4    & 3.00 & 3.4  & 1.4  & 1.50 & 29   & 1.28 & 3   \\\\\n",
       "\t 1    & 2    & 1    & 1    & 6    & 4    & 2.50 & 2.4  & 1.8  & 1.75 & 19   & 1.47 & 7   \\\\\n",
       "\t 2    & 2    & 1    & 1    & 8    & 6    & 3.00 & 3.0  & 1.6  & 1.50 & 31   & 1.85 & 6   \\\\\n",
       "\t 1    & 2    & 1    & 1    & 9    & 6    & 3.50 & 3.4  & 1.6  & 1.00 & 36   & 2.09 & 6   \\\\\n",
       "\t 1    & 2    & 1    & 1    & 7    & 5    & 3.25 & 3.4  & 1.4  & 1.25 & 28   & 1.72 & 5   \\\\\n",
       "\t 2    & 1    & 1    & 1    & 0    & 2    & 2.75 & 2.8  & 1.2  & 2.00 & 20   & 0.83 & 2   \\\\\n",
       "\t ... & ... & ... & ... & ... & ... & ... & ... & ... & ... & ... & ... & ...\\\\\n",
       "\t 1    & 2    & 1    & 1    & 8    & 4    & 3.25 & 3.2  & 1.4  & 1.50 & 32   & 2.03 & 8   \\\\\n",
       "\t 2    & 2    & 1    & 1    & 9    & 6    & 3.50 & 3.2  & 1.4  & 2.00 & 18   & 1.73 & 3   \\\\\n",
       "\t 2    & 2    & 1    & 1    & 6    & 7    & 3.25 & 3.2  & 1.8  & 1.00 & 33   & 1.40 & 3   \\\\\n",
       "\t 2    & 1    & 2    & 1    & 6    & 7    & 3.75 & 4.0  & 1.2  & 1.00 & 20   & 0.66 & 3   \\\\\n",
       "\t 2    & 2    & 1    & 1    & 9    & 8    & 3.25 & 3.4  & 1.2  & 1.00 & 21   & 1.73 & 3   \\\\\n",
       "\t 2    & 2    & 1    & 1    & 6    & 5    & 3.50 & 3.0  & 1.4  & 1.50 & 16   & 1.33 & 5   \\\\\n",
       "\t 2    & 2    & 1    & 1    & 8    & 4    & 3.25 & 3.2  & 1.2  & 2.00 & 19   & 1.17 & 1   \\\\\n",
       "\t 2    & 2    & 1    & 1    & 9    & 8    & 3.75 & 3.8  & 1.0  & 1.00 & 13   & 1.53 & 4   \\\\\n",
       "\t 2    & 1    & 1    & 1    & 6    & 8    & 3.25 & 3.0  & 1.6  & 1.75 & 14   & 1.15 & 3   \\\\\n",
       "\t 1    & 2    & 1    & 1    & 6    & 7    & 3.25 & 2.6  & 1.6  & 2.25 & 24   & 1.18 & 5   \\\\\n",
       "\t 2    & 1    & 3    & 1    & 6    & 4    & 3.00 & 3.0  & 1.4  & 3.00 & 10   & 1.54 & 1   \\\\\n",
       "\t 2    & 1    & 1    & 1    & 7    & 7    & 3.00 & 2.8  & 2.0  & 1.00 &  8   & 0.64 & 3   \\\\\n",
       "\t 2    & 2    & 1    & 1    & 6    & 8    & 3.00 & 3.4  & 1.0  & 1.00 & 21   & 1.28 & 5   \\\\\n",
       "\t 2    & 2    & 1    & 1    & 4    & 7    & 3.75 & 4.0  & 1.0  & 2.00 & 26   & 1.50 & 5   \\\\\n",
       "\t 1    & 2    & 1    & 1    & 4    & 4    & 2.75 & 1.8  & 4.0  & 2.25 & 19   & 1.42 & 5   \\\\\n",
       "\t 2    & 2    & 1    & 1    & 2    & 5    & 3.75 & 3.8  & 1.6  & 1.50 & 17   & 0.87 & 3   \\\\\n",
       "\t 1    & 2    & 1    & 1    & 7    & 6    & 3.00 & 3.2  & 1.4  & 1.25 & 29   & 1.60 & 5   \\\\\n",
       "\t 1    & 2    & 1    & 1    & 8    & 6    & 3.00 & 3.0  & 1.2  & 1.00 & 19   & 1.30 & 5   \\\\\n",
       "\t 2    & 1    & 2    & 1    & 7    & 8    & 3.75 & 3.8  & 1.0  & 1.00 & 25   & 1.69 & 5   \\\\\n",
       "\t 1    & 2    & 1    & 1    & 4    & 7    & 3.00 & 2.8  & 2.2  & 1.00 & 24   & 1.39 & 4   \\\\\n",
       "\t 2    & 1    & 3    & 1    & 8    & 4    & 4.00 & 4.0  & 1.0  & 1.25 & 13   & 1.17 & 5   \\\\\n",
       "\t 1    & 2    & 4    & 1    & 8    & 6    & 4.00 & 4.0  & 1.0  & 1.25 & 26   & 0.81 & 7   \\\\\n",
       "\t 2    & 1    & 1    & 1    & 5    & 4    & 3.50 & 2.8  & 1.4  & 1.25 & 10   & 1.78 & 4   \\\\\n",
       "\t 1    & 1    & 3    & 1    & 2    & 3    & 2.50 & 3.0  & 2.2  & 1.50 & 30   & 0.69 & 5   \\\\\n",
       "\t 2    & 2    & 1    & 1    & 6    & 8    & 3.50 & 4.0  & 1.6  & 2.25 & 33   & 1.97 & 5   \\\\\n",
       "\t 1    & 2    & 1    & 1    & 4    & 2    & 3.50 & 3.4  & 1.0  & 2.25 & 16   & 1.77 & 5   \\\\\n",
       "\t 2    & 1    & 1    & 1    & 8    & 8    & 3.00 & 3.4  & 1.4  & 1.50 & 19   & 1.33 & 4   \\\\\n",
       "\t 2    & 2    & 3    & 2    & 5    & 7    & 4.00 & 4.0  & 1.0  & 2.00 & 24   & 1.81 & 3   \\\\\n",
       "\t 2    & 2    & 1    & 1    & 9    & 7    & 3.75 & 4.0  & 1.2  & 1.25 & 32   & 1.11 & 6   \\\\\n",
       "\t 2    & 1    & 3    & 1    & 2    & 5    & 2.75 & 2.8  & 1.0  & 2.50 & 14   & 1.14 & 2   \\\\\n",
       "\\end{tabular}\n"
      ],
      "text/markdown": [
       "\n",
       "GENDER | POVRTY | RACE | KINDER1 | FMOTOR | GMOTOR | SCONTROL | INTERP | EXTERN | INTERN | GENERAL | MATH7 | MOM_ED | \n",
       "|---|---|---|---|---|---|---|---|---|---|---|---|---|---|---|---|---|---|---|---|---|---|---|---|---|---|---|---|---|---|---|---|---|---|---|---|---|---|---|---|---|---|---|---|---|---|---|---|---|---|---|---|---|---|---|---|---|---|---|---|---|\n",
       "| 2    | 2    | 1    | 1    | 6    | 8    | 3.50 | 4.0  | 1.0  | 1.25 | 38   | 2.16 | 3    | \n",
       "| 1    | 2    | 1    | 1    | 6    | 2    | 2.00 | 2.2  | 2.8  | 2.25 | 19   | 1.14 | 6    | \n",
       "| 2    | 2    | 4    | 1    | 8    | 8    | 4.00 | 4.0  | 1.2  | 1.25 | 33   | 2.04 | 8    | \n",
       "| 2    | 2    | 1    | 1    | 6    | 7    | 3.25 | 3.2  | 1.2  | 2.75 | 27   | 1.42 | 7    | \n",
       "| 1    | 1    | 1    | 1    | 7    | 5    | 3.00 | 2.2  | 1.8  | 1.25 | 23   | 1.70 | 3    | \n",
       "| 2    | 2    | 1    | 1    | 5    | 6    | 3.50 | 3.4  | 1.6  | 1.50 | 25   | 2.00 | 6    | \n",
       "| 2    | 2    | 1    | 1    | 7    | 3    | 1.50 | 2.0  | 3.6  | 2.25 | 15   | 1.26 | 4    | \n",
       "| 2    | 2    | 1    | 1    | 5    | 3    | 2.75 | 2.8  | 1.4  | 1.25 | 28   | 1.40 | 5    | \n",
       "| 1    | 2    | 1    | 2    | 8    | 8    | 3.00 | 2.8  | 1.8  | 1.50 | 34   | 1.69 | 5    | \n",
       "| 2    | 2    | 1    | 2    | 5    | 7    | 3.50 | 3.2  | 1.0  | 2.00 | 38   | 2.20 | 3    | \n",
       "| 2    | 2    | 1    | 1    | 6    | 3    | 3.50 | 3.6  | 1.0  | 1.50 | 22   | 1.34 | 3    | \n",
       "| 2    | 1    | 3    | 1    | 4    | 4    | 3.50 | 3.6  | 1.0  | 1.50 | 16   | 1.56 | 2    | \n",
       "| 2    | 1    | 1    | 1    | 4    | 2    | 3.50 | 3.2  | 1.0  | 1.50 | 19   | 1.21 | 3    | \n",
       "| 2    | 1    | 1    | 1    | 2    | 7    | 3.25 | 3.0  | 1.6  | 2.25 | 18   | 1.09 | 3    | \n",
       "| 1    | 2    | 1    | 1    | 6    | 4    | 3.50 | 3.4  | 1.6  | 1.75 | 18   | 1.42 | 6    | \n",
       "| 1    | 2    | 1    | 1    | 2    | 6    | 3.50 | 3.0  | 1.2  | 2.00 | 17   | 1.24 | 3    | \n",
       "| 1    | 2    | 1    | 1    | 3    | 1    | 3.00 | 3.0  | 1.0  | 1.00 | 18   | 1.96 | 3    | \n",
       "| 2    | 2    | 1    | 1    | 8    | 8    | 2.75 | 2.6  | 1.0  | 1.00 | 22   | 1.26 | 3    | \n",
       "| 2    | 2    | 1    | 1    | 5    | 8    | 4.00 | 4.0  | 1.0  | 1.00 | 20   | 1.66 | 3    | \n",
       "| 1    | 1    | 1    | 1    | 2    | 4    | 3.50 | 3.4  | 1.2  | 1.25 | 18   | 1.39 | 1    | \n",
       "| 1    | 2    | 1    | 1    | 8    | 8    | 2.50 | 2.6  | 1.4  | 1.25 | 24   | 1.21 | 6    | \n",
       "| 1    | 2    | 1    | 1    | 6    | 8    | 2.50 | 2.4  | 2.0  | 1.25 | 33   | 2.01 | 5    | \n",
       "| 2    | 2    | 1    | 1    | 7    | 6    | 3.50 | 3.6  | 1.2  | 1.25 | 35   | 1.47 | 6    | \n",
       "| 1    | 2    | 1    | 1    | 4    | 6    | 3.25 | 3.0  | 2.0  | 1.75 | 24   | 1.65 | 6    | \n",
       "| 2    | 2    | 1    | 1    | 3    | 4    | 3.00 | 3.4  | 1.4  | 1.50 | 29   | 1.28 | 3    | \n",
       "| 1    | 2    | 1    | 1    | 6    | 4    | 2.50 | 2.4  | 1.8  | 1.75 | 19   | 1.47 | 7    | \n",
       "| 2    | 2    | 1    | 1    | 8    | 6    | 3.00 | 3.0  | 1.6  | 1.50 | 31   | 1.85 | 6    | \n",
       "| 1    | 2    | 1    | 1    | 9    | 6    | 3.50 | 3.4  | 1.6  | 1.00 | 36   | 2.09 | 6    | \n",
       "| 1    | 2    | 1    | 1    | 7    | 5    | 3.25 | 3.4  | 1.4  | 1.25 | 28   | 1.72 | 5    | \n",
       "| 2    | 1    | 1    | 1    | 0    | 2    | 2.75 | 2.8  | 1.2  | 2.00 | 20   | 0.83 | 2    | \n",
       "| ... | ... | ... | ... | ... | ... | ... | ... | ... | ... | ... | ... | ... | \n",
       "| 1    | 2    | 1    | 1    | 8    | 4    | 3.25 | 3.2  | 1.4  | 1.50 | 32   | 2.03 | 8    | \n",
       "| 2    | 2    | 1    | 1    | 9    | 6    | 3.50 | 3.2  | 1.4  | 2.00 | 18   | 1.73 | 3    | \n",
       "| 2    | 2    | 1    | 1    | 6    | 7    | 3.25 | 3.2  | 1.8  | 1.00 | 33   | 1.40 | 3    | \n",
       "| 2    | 1    | 2    | 1    | 6    | 7    | 3.75 | 4.0  | 1.2  | 1.00 | 20   | 0.66 | 3    | \n",
       "| 2    | 2    | 1    | 1    | 9    | 8    | 3.25 | 3.4  | 1.2  | 1.00 | 21   | 1.73 | 3    | \n",
       "| 2    | 2    | 1    | 1    | 6    | 5    | 3.50 | 3.0  | 1.4  | 1.50 | 16   | 1.33 | 5    | \n",
       "| 2    | 2    | 1    | 1    | 8    | 4    | 3.25 | 3.2  | 1.2  | 2.00 | 19   | 1.17 | 1    | \n",
       "| 2    | 2    | 1    | 1    | 9    | 8    | 3.75 | 3.8  | 1.0  | 1.00 | 13   | 1.53 | 4    | \n",
       "| 2    | 1    | 1    | 1    | 6    | 8    | 3.25 | 3.0  | 1.6  | 1.75 | 14   | 1.15 | 3    | \n",
       "| 1    | 2    | 1    | 1    | 6    | 7    | 3.25 | 2.6  | 1.6  | 2.25 | 24   | 1.18 | 5    | \n",
       "| 2    | 1    | 3    | 1    | 6    | 4    | 3.00 | 3.0  | 1.4  | 3.00 | 10   | 1.54 | 1    | \n",
       "| 2    | 1    | 1    | 1    | 7    | 7    | 3.00 | 2.8  | 2.0  | 1.00 |  8   | 0.64 | 3    | \n",
       "| 2    | 2    | 1    | 1    | 6    | 8    | 3.00 | 3.4  | 1.0  | 1.00 | 21   | 1.28 | 5    | \n",
       "| 2    | 2    | 1    | 1    | 4    | 7    | 3.75 | 4.0  | 1.0  | 2.00 | 26   | 1.50 | 5    | \n",
       "| 1    | 2    | 1    | 1    | 4    | 4    | 2.75 | 1.8  | 4.0  | 2.25 | 19   | 1.42 | 5    | \n",
       "| 2    | 2    | 1    | 1    | 2    | 5    | 3.75 | 3.8  | 1.6  | 1.50 | 17   | 0.87 | 3    | \n",
       "| 1    | 2    | 1    | 1    | 7    | 6    | 3.00 | 3.2  | 1.4  | 1.25 | 29   | 1.60 | 5    | \n",
       "| 1    | 2    | 1    | 1    | 8    | 6    | 3.00 | 3.0  | 1.2  | 1.00 | 19   | 1.30 | 5    | \n",
       "| 2    | 1    | 2    | 1    | 7    | 8    | 3.75 | 3.8  | 1.0  | 1.00 | 25   | 1.69 | 5    | \n",
       "| 1    | 2    | 1    | 1    | 4    | 7    | 3.00 | 2.8  | 2.2  | 1.00 | 24   | 1.39 | 4    | \n",
       "| 2    | 1    | 3    | 1    | 8    | 4    | 4.00 | 4.0  | 1.0  | 1.25 | 13   | 1.17 | 5    | \n",
       "| 1    | 2    | 4    | 1    | 8    | 6    | 4.00 | 4.0  | 1.0  | 1.25 | 26   | 0.81 | 7    | \n",
       "| 2    | 1    | 1    | 1    | 5    | 4    | 3.50 | 2.8  | 1.4  | 1.25 | 10   | 1.78 | 4    | \n",
       "| 1    | 1    | 3    | 1    | 2    | 3    | 2.50 | 3.0  | 2.2  | 1.50 | 30   | 0.69 | 5    | \n",
       "| 2    | 2    | 1    | 1    | 6    | 8    | 3.50 | 4.0  | 1.6  | 2.25 | 33   | 1.97 | 5    | \n",
       "| 1    | 2    | 1    | 1    | 4    | 2    | 3.50 | 3.4  | 1.0  | 2.25 | 16   | 1.77 | 5    | \n",
       "| 2    | 1    | 1    | 1    | 8    | 8    | 3.00 | 3.4  | 1.4  | 1.50 | 19   | 1.33 | 4    | \n",
       "| 2    | 2    | 3    | 2    | 5    | 7    | 4.00 | 4.0  | 1.0  | 2.00 | 24   | 1.81 | 3    | \n",
       "| 2    | 2    | 1    | 1    | 9    | 7    | 3.75 | 4.0  | 1.2  | 1.25 | 32   | 1.11 | 6    | \n",
       "| 2    | 1    | 3    | 1    | 2    | 5    | 2.75 | 2.8  | 1.0  | 2.50 | 14   | 1.14 | 2    | \n",
       "\n",
       "\n"
      ],
      "text/plain": [
       "     GENDER POVRTY RACE KINDER1 FMOTOR GMOTOR SCONTROL INTERP EXTERN INTERN\n",
       "1    2      2      1    1       6      8      3.50     4.0    1.0    1.25  \n",
       "2    1      2      1    1       6      2      2.00     2.2    2.8    2.25  \n",
       "3    2      2      4    1       8      8      4.00     4.0    1.2    1.25  \n",
       "4    2      2      1    1       6      7      3.25     3.2    1.2    2.75  \n",
       "5    1      1      1    1       7      5      3.00     2.2    1.8    1.25  \n",
       "6    2      2      1    1       5      6      3.50     3.4    1.6    1.50  \n",
       "7    2      2      1    1       7      3      1.50     2.0    3.6    2.25  \n",
       "8    2      2      1    1       5      3      2.75     2.8    1.4    1.25  \n",
       "9    1      2      1    2       8      8      3.00     2.8    1.8    1.50  \n",
       "10   2      2      1    2       5      7      3.50     3.2    1.0    2.00  \n",
       "11   2      2      1    1       6      3      3.50     3.6    1.0    1.50  \n",
       "12   2      1      3    1       4      4      3.50     3.6    1.0    1.50  \n",
       "13   2      1      1    1       4      2      3.50     3.2    1.0    1.50  \n",
       "14   2      1      1    1       2      7      3.25     3.0    1.6    2.25  \n",
       "15   1      2      1    1       6      4      3.50     3.4    1.6    1.75  \n",
       "16   1      2      1    1       2      6      3.50     3.0    1.2    2.00  \n",
       "17   1      2      1    1       3      1      3.00     3.0    1.0    1.00  \n",
       "18   2      2      1    1       8      8      2.75     2.6    1.0    1.00  \n",
       "19   2      2      1    1       5      8      4.00     4.0    1.0    1.00  \n",
       "20   1      1      1    1       2      4      3.50     3.4    1.2    1.25  \n",
       "21   1      2      1    1       8      8      2.50     2.6    1.4    1.25  \n",
       "22   1      2      1    1       6      8      2.50     2.4    2.0    1.25  \n",
       "23   2      2      1    1       7      6      3.50     3.6    1.2    1.25  \n",
       "24   1      2      1    1       4      6      3.25     3.0    2.0    1.75  \n",
       "25   2      2      1    1       3      4      3.00     3.4    1.4    1.50  \n",
       "26   1      2      1    1       6      4      2.50     2.4    1.8    1.75  \n",
       "27   2      2      1    1       8      6      3.00     3.0    1.6    1.50  \n",
       "28   1      2      1    1       9      6      3.50     3.4    1.6    1.00  \n",
       "29   1      2      1    1       7      5      3.25     3.4    1.4    1.25  \n",
       "30   2      1      1    1       0      2      2.75     2.8    1.2    2.00  \n",
       "...  ...    ...    ...  ...     ...    ...    ...      ...    ...    ...   \n",
       "6342 1      2      1    1       8      4      3.25     3.2    1.4    1.50  \n",
       "6343 2      2      1    1       9      6      3.50     3.2    1.4    2.00  \n",
       "6344 2      2      1    1       6      7      3.25     3.2    1.8    1.00  \n",
       "6345 2      1      2    1       6      7      3.75     4.0    1.2    1.00  \n",
       "6346 2      2      1    1       9      8      3.25     3.4    1.2    1.00  \n",
       "6347 2      2      1    1       6      5      3.50     3.0    1.4    1.50  \n",
       "6348 2      2      1    1       8      4      3.25     3.2    1.2    2.00  \n",
       "6349 2      2      1    1       9      8      3.75     3.8    1.0    1.00  \n",
       "6350 2      1      1    1       6      8      3.25     3.0    1.6    1.75  \n",
       "6351 1      2      1    1       6      7      3.25     2.6    1.6    2.25  \n",
       "6352 2      1      3    1       6      4      3.00     3.0    1.4    3.00  \n",
       "6353 2      1      1    1       7      7      3.00     2.8    2.0    1.00  \n",
       "6354 2      2      1    1       6      8      3.00     3.4    1.0    1.00  \n",
       "6355 2      2      1    1       4      7      3.75     4.0    1.0    2.00  \n",
       "6356 1      2      1    1       4      4      2.75     1.8    4.0    2.25  \n",
       "6357 2      2      1    1       2      5      3.75     3.8    1.6    1.50  \n",
       "6358 1      2      1    1       7      6      3.00     3.2    1.4    1.25  \n",
       "6359 1      2      1    1       8      6      3.00     3.0    1.2    1.00  \n",
       "6360 2      1      2    1       7      8      3.75     3.8    1.0    1.00  \n",
       "6361 1      2      1    1       4      7      3.00     2.8    2.2    1.00  \n",
       "6362 2      1      3    1       8      4      4.00     4.0    1.0    1.25  \n",
       "6363 1      2      4    1       8      6      4.00     4.0    1.0    1.25  \n",
       "6364 2      1      1    1       5      4      3.50     2.8    1.4    1.25  \n",
       "6365 1      1      3    1       2      3      2.50     3.0    2.2    1.50  \n",
       "6366 2      2      1    1       6      8      3.50     4.0    1.6    2.25  \n",
       "6367 1      2      1    1       4      2      3.50     3.4    1.0    2.25  \n",
       "6368 2      1      1    1       8      8      3.00     3.4    1.4    1.50  \n",
       "6369 2      2      3    2       5      7      4.00     4.0    1.0    2.00  \n",
       "6370 2      2      1    1       9      7      3.75     4.0    1.2    1.25  \n",
       "6371 2      1      3    1       2      5      2.75     2.8    1.0    2.50  \n",
       "     GENERAL MATH7 MOM_ED\n",
       "1    38      2.16  3     \n",
       "2    19      1.14  6     \n",
       "3    33      2.04  8     \n",
       "4    27      1.42  7     \n",
       "5    23      1.70  3     \n",
       "6    25      2.00  6     \n",
       "7    15      1.26  4     \n",
       "8    28      1.40  5     \n",
       "9    34      1.69  5     \n",
       "10   38      2.20  3     \n",
       "11   22      1.34  3     \n",
       "12   16      1.56  2     \n",
       "13   19      1.21  3     \n",
       "14   18      1.09  3     \n",
       "15   18      1.42  6     \n",
       "16   17      1.24  3     \n",
       "17   18      1.96  3     \n",
       "18   22      1.26  3     \n",
       "19   20      1.66  3     \n",
       "20   18      1.39  1     \n",
       "21   24      1.21  6     \n",
       "22   33      2.01  5     \n",
       "23   35      1.47  6     \n",
       "24   24      1.65  6     \n",
       "25   29      1.28  3     \n",
       "26   19      1.47  7     \n",
       "27   31      1.85  6     \n",
       "28   36      2.09  6     \n",
       "29   28      1.72  5     \n",
       "30   20      0.83  2     \n",
       "...  ...     ...   ...   \n",
       "6342 32      2.03  8     \n",
       "6343 18      1.73  3     \n",
       "6344 33      1.40  3     \n",
       "6345 20      0.66  3     \n",
       "6346 21      1.73  3     \n",
       "6347 16      1.33  5     \n",
       "6348 19      1.17  1     \n",
       "6349 13      1.53  4     \n",
       "6350 14      1.15  3     \n",
       "6351 24      1.18  5     \n",
       "6352 10      1.54  1     \n",
       "6353  8      0.64  3     \n",
       "6354 21      1.28  5     \n",
       "6355 26      1.50  5     \n",
       "6356 19      1.42  5     \n",
       "6357 17      0.87  3     \n",
       "6358 29      1.60  5     \n",
       "6359 19      1.30  5     \n",
       "6360 25      1.69  5     \n",
       "6361 24      1.39  4     \n",
       "6362 13      1.17  5     \n",
       "6363 26      0.81  7     \n",
       "6364 10      1.78  4     \n",
       "6365 30      0.69  5     \n",
       "6366 33      1.97  5     \n",
       "6367 16      1.77  5     \n",
       "6368 19      1.33  4     \n",
       "6369 24      1.81  3     \n",
       "6370 32      1.11  6     \n",
       "6371 14      1.14  2     "
      ]
     },
     "metadata": {},
     "output_type": "display_data"
    }
   ],
   "source": [
    "# Early Childhood Longitudinal Study - Kindergarten cohort of 1998-1999 (ECLSK)\n",
    "# https://nces.ed.gov/ecls/kindergarten.asp\n",
    "\n",
    "\n",
    "DATA = read.table(\"https://raw.githubusercontent.com/chesterqualls/Data-Science-Meetup-11-8-18-Materials/master/ECLSK.dat\", \n",
    "                  header = TRUE)\n",
    "\n",
    "DATA"
   ]
  },
  {
   "cell_type": "code",
   "execution_count": 162,
   "metadata": {},
   "outputs": [
    {
     "name": "stdout",
     "output_type": "stream",
     "text": [
      "Summary Statistics - Different data types summarize as appropriate"
     ]
    },
    {
     "data": {
      "text/plain": [
       "     GENDER          POVRTY     RACE        KINDER1          FMOTOR     \n",
       " Min.   :1.000   Min.   :1.00   1:4349   Min.   :1.000   Min.   :0.000  \n",
       " 1st Qu.:1.000   1st Qu.:2.00   2: 644   1st Qu.:1.000   1st Qu.:5.000  \n",
       " Median :2.000   Median :2.00   3: 753   Median :1.000   Median :6.000  \n",
       " Mean   :1.502   Mean   :1.88   4: 625   Mean   :1.035   Mean   :6.123  \n",
       " 3rd Qu.:2.000   3rd Qu.:2.00            3rd Qu.:1.000   3rd Qu.:8.000  \n",
       " Max.   :2.000   Max.   :2.00            Max.   :2.000   Max.   :9.000  \n",
       "     GMOTOR         SCONTROL         INTERP          EXTERN          INTERN    \n",
       " Min.   :0.000   Min.   :1.000   Min.   :1.200   Min.   :1.000   Min.   :1.00  \n",
       " 1st Qu.:6.000   1st Qu.:2.750   1st Qu.:2.600   1st Qu.:1.000   1st Qu.:1.00  \n",
       " Median :7.000   Median :3.250   Median :3.000   Median :1.400   Median :1.25  \n",
       " Mean   :6.464   Mean   :3.152   Mean   :3.057   Mean   :1.564   Mean   :1.49  \n",
       " 3rd Qu.:8.000   3rd Qu.:3.500   3rd Qu.:3.600   3rd Qu.:2.000   3rd Qu.:1.75  \n",
       " Max.   :8.000   Max.   :4.000   Max.   :4.000   Max.   :4.000   Max.   :4.00  \n",
       "    GENERAL          MATH7           MOM_ED   \n",
       " Min.   : 7.00   Min.   :0.240   Min.   :1.0  \n",
       " 1st Qu.:19.00   1st Qu.:1.250   1st Qu.:3.0  \n",
       " Median :24.00   Median :1.530   Median :5.0  \n",
       " Mean   :24.06   Mean   :1.529   Mean   :4.7  \n",
       " 3rd Qu.:29.00   3rd Qu.:1.830   3rd Qu.:6.0  \n",
       " Max.   :46.00   Max.   :2.550   Max.   :9.0  "
      ]
     },
     "metadata": {},
     "output_type": "display_data"
    },
    {
     "name": "stdout",
     "output_type": "stream",
     "text": [
      "\n",
      "Summary of Race Data - RACE: 1 = White; 2 = Black/AfAm; 3 = Hisp; 4 = All other"
     ]
    },
    {
     "data": {
      "text/html": [
       "<dl class=dl-horizontal>\n",
       "\t<dt>1</dt>\n",
       "\t\t<dd>4349</dd>\n",
       "\t<dt>2</dt>\n",
       "\t\t<dd>644</dd>\n",
       "\t<dt>3</dt>\n",
       "\t\t<dd>753</dd>\n",
       "\t<dt>4</dt>\n",
       "\t\t<dd>625</dd>\n",
       "</dl>\n"
      ],
      "text/latex": [
       "\\begin{description*}\n",
       "\\item[1] 4349\n",
       "\\item[2] 644\n",
       "\\item[3] 753\n",
       "\\item[4] 625\n",
       "\\end{description*}\n"
      ],
      "text/markdown": [
       "1\n",
       ":   43492\n",
       ":   6443\n",
       ":   7534\n",
       ":   625\n",
       "\n"
      ],
      "text/plain": [
       "   1    2    3    4 \n",
       "4349  644  753  625 "
      ]
     },
     "metadata": {},
     "output_type": "display_data"
    }
   ],
   "source": [
    "# Math scores measured in 8th grade.\n",
    "# All other variables measured at kindergarten.\n",
    "\n",
    "# GENDER: 1 = MALE\n",
    "# RACE: 1 = White; 2 = Black/AfAm; 3 = Hisp; 4 = All other\n",
    "\n",
    "DATA$RACE = as.factor(DATA$RACE)\n",
    "cat('Summary Statistics - Different data types summarize as appropriate')  \n",
    "summary(DATA)\n",
    "cat('\\nSummary of Race Data - RACE: 1 = White; 2 = Black/AfAm; 3 = Hisp; 4 = All other')\n",
    "summary(DATA$RACE)"
   ]
  },
  {
   "cell_type": "code",
   "execution_count": 112,
   "metadata": {},
   "outputs": [],
   "source": [
    "# Split into training and testing sets\n",
    "\n",
    "N = nrow(DATA)\n",
    "n_training = floor(N*3/4)\n",
    "training_rows = 1:n_training\n",
    "\n",
    "TRAINING = DATA[training_rows,]\n",
    "TESTING = DATA[-training_rows,]"
   ]
  },
  {
   "cell_type": "code",
   "execution_count": 192,
   "metadata": {},
   "outputs": [
    {
     "data": {
      "image/png": "[encoded data removed]",
      "text/plain": [
       "Plot with title \"TITLE\""
      ]
     },
     "metadata": {},
     "output_type": "display_data"
    }
   ],
   "source": [
    "## Regression Tree\n",
    "\n",
    "# install.packages(\"rpart\")\n",
    "# install.packages(\"rpart.plot\")\n",
    "\n",
    "library(rpart)\n",
    "library(rpart.plot)\n",
    "\n",
    "Tree1 = rpart(MATH7 ~  GENDER + POVRTY + RACE + KINDER1 +\n",
    "             FMOTOR + GMOTOR + SCONTROL + INTERP + EXTERN + \n",
    "             INTERN + GENERAL + MOM_ED,\n",
    "           data = TRAINING)\n",
    "\n",
    "rpart.plot(Tree1, box.palette = \"Greens\", shadow.col = '#c8c8c8',main='TITLE')\n",
    "\n",
    "\n",
    "#prediction before pruning\n",
    "pred = predict(Tree1, TESTING)"
   ]
  },
  {
   "cell_type": "code",
   "execution_count": 113,
   "metadata": {},
   "outputs": [
    {
     "data": {
      "text/html": [
       "0.273483595823516"
      ],
      "text/latex": [
       "0.273483595823516"
      ],
      "text/markdown": [
       "0.273483595823516"
      ],
      "text/plain": [
       "[1] 0.2734836"
      ]
     },
     "metadata": {},
     "output_type": "display_data"
    },
    {
     "data": {
      "text/html": [
       "<table>\n",
       "<thead><tr><th></th><th scope=col>CP</th><th scope=col>nsplit</th><th scope=col>rel error</th><th scope=col>xerror</th><th scope=col>xstd</th></tr></thead>\n",
       "<tbody>\n",
       "\t<tr><th scope=row>1</th><td>0.168101026</td><td> 0         </td><td>1.0000000  </td><td>1.0006868  </td><td>0.01884762 </td></tr>\n",
       "\t<tr><th scope=row>2</th><td>0.040132447</td><td> 1         </td><td>0.8318990  </td><td>0.8384466  </td><td>0.01639791 </td></tr>\n",
       "\t<tr><th scope=row>3</th><td>0.024691577</td><td> 2         </td><td>0.7917665  </td><td>0.8096457  </td><td>0.01604370 </td></tr>\n",
       "\t<tr><th scope=row>4</th><td>0.016451165</td><td> 3         </td><td>0.7670750  </td><td>0.7819285  </td><td>0.01567037 </td></tr>\n",
       "\t<tr><th scope=row>5</th><td>0.012602638</td><td> 4         </td><td>0.7506238  </td><td>0.7693481  </td><td>0.01556459 </td></tr>\n",
       "\t<tr><th scope=row>6</th><td>0.008840782</td><td> 5         </td><td>0.7380211  </td><td>0.7557789  </td><td>0.01537353 </td></tr>\n",
       "\t<tr><th scope=row>7</th><td>0.007361570</td><td> 6         </td><td>0.7291804  </td><td>0.7502001  </td><td>0.01535466 </td></tr>\n",
       "\t<tr><th scope=row>8</th><td>0.006567605</td><td> 7         </td><td>0.7218188  </td><td>0.7461622  </td><td>0.01532097 </td></tr>\n",
       "\t<tr><th scope=row>9</th><td>0.006347176</td><td> 8         </td><td>0.7152512  </td><td>0.7444381  </td><td>0.01536335 </td></tr>\n",
       "\t<tr><th scope=row>10</th><td>0.006086575</td><td> 9         </td><td>0.7089040  </td><td>0.7435309  </td><td>0.01537299 </td></tr>\n",
       "\t<tr><th scope=row>11</th><td>0.005017477</td><td>10         </td><td>0.7028174  </td><td>0.7369966  </td><td>0.01526152 </td></tr>\n",
       "\t<tr><th scope=row>12</th><td>0.004503105</td><td>11         </td><td>0.6978000  </td><td>0.7285658  </td><td>0.01507660 </td></tr>\n",
       "\t<tr><th scope=row>13</th><td>0.003306393</td><td>12         </td><td>0.6932969  </td><td>0.7216732  </td><td>0.01490884 </td></tr>\n",
       "\t<tr><th scope=row>14</th><td>0.003089504</td><td>13         </td><td>0.6899905  </td><td>0.7201541  </td><td>0.01493562 </td></tr>\n",
       "\t<tr><th scope=row>15</th><td>0.002992418</td><td>14         </td><td>0.6869010  </td><td>0.7201457  </td><td>0.01492917 </td></tr>\n",
       "\t<tr><th scope=row>16</th><td>0.002939107</td><td>15         </td><td>0.6839085  </td><td>0.7204833  </td><td>0.01496380 </td></tr>\n",
       "\t<tr><th scope=row>17</th><td>0.002766834</td><td>16         </td><td>0.6809694  </td><td>0.7206122  </td><td>0.01494150 </td></tr>\n",
       "\t<tr><th scope=row>18</th><td>0.002665383</td><td>17         </td><td>0.6782026  </td><td>0.7200686  </td><td>0.01494466 </td></tr>\n",
       "\t<tr><th scope=row>19</th><td>0.002394897</td><td>18         </td><td>0.6755372  </td><td>0.7188293  </td><td>0.01491783 </td></tr>\n",
       "\t<tr><th scope=row>20</th><td>0.002350513</td><td>19         </td><td>0.6731423  </td><td>0.7190873  </td><td>0.01497993 </td></tr>\n",
       "\t<tr><th scope=row>21</th><td>0.002261763</td><td>20         </td><td>0.6707918  </td><td>0.7183259  </td><td>0.01498617 </td></tr>\n",
       "\t<tr><th scope=row>22</th><td>0.002156490</td><td>21         </td><td>0.6685300  </td><td>0.7178285  </td><td>0.01498185 </td></tr>\n",
       "\t<tr><th scope=row>23</th><td>0.002142359</td><td>22         </td><td>0.6663736  </td><td>0.7178096  </td><td>0.01498187 </td></tr>\n",
       "\t<tr><th scope=row>24</th><td>0.002066244</td><td>23         </td><td>0.6642312  </td><td>0.7183666  </td><td>0.01500479 </td></tr>\n",
       "\t<tr><th scope=row>25</th><td>0.001973434</td><td>24         </td><td>0.6621650  </td><td>0.7165036  </td><td>0.01497618 </td></tr>\n",
       "\t<tr><th scope=row>26</th><td>0.001887961</td><td>25         </td><td>0.6601915  </td><td>0.7147510  </td><td>0.01498483 </td></tr>\n",
       "\t<tr><th scope=row>27</th><td>0.001664167</td><td>26         </td><td>0.6583036  </td><td>0.7142552  </td><td>0.01495818 </td></tr>\n",
       "\t<tr><th scope=row>28</th><td>0.001605575</td><td>27         </td><td>0.6566394  </td><td>0.7138892  </td><td>0.01499368 </td></tr>\n",
       "\t<tr><th scope=row>29</th><td>0.001546625</td><td>29         </td><td>0.6534282  </td><td>0.7136424  </td><td>0.01493887 </td></tr>\n",
       "\t<tr><th scope=row>30</th><td>0.001546082</td><td>30         </td><td>0.6518816  </td><td>0.7134457  </td><td>0.01494442 </td></tr>\n",
       "\t<tr><th scope=row>...</th><td>...</td><td>...</td><td>...</td><td>...</td><td>...</td></tr>\n",
       "\t<tr><th scope=row>87</th><td>0.0006726706</td><td>125         </td><td>0.5662054   </td><td>0.7544692   </td><td>0.01598939  </td></tr>\n",
       "\t<tr><th scope=row>88</th><td>0.0006721945</td><td>126         </td><td>0.5655328   </td><td>0.7540392   </td><td>0.01598626  </td></tr>\n",
       "\t<tr><th scope=row>89</th><td>0.0006608792</td><td>127         </td><td>0.5648606   </td><td>0.7561619   </td><td>0.01605753  </td></tr>\n",
       "\t<tr><th scope=row>90</th><td>0.0006593075</td><td>128         </td><td>0.5641997   </td><td>0.7573580   </td><td>0.01609104  </td></tr>\n",
       "\t<tr><th scope=row>91</th><td>0.0006548744</td><td>129         </td><td>0.5635404   </td><td>0.7576013   </td><td>0.01610059  </td></tr>\n",
       "\t<tr><th scope=row>92</th><td>0.0006519426</td><td>130         </td><td>0.5628855   </td><td>0.7571653   </td><td>0.01611339  </td></tr>\n",
       "\t<tr><th scope=row>93</th><td>0.0006448015</td><td>131         </td><td>0.5622336   </td><td>0.7579926   </td><td>0.01612268  </td></tr>\n",
       "\t<tr><th scope=row>94</th><td>0.0006184416</td><td>132         </td><td>0.5615888   </td><td>0.7617204   </td><td>0.01616672  </td></tr>\n",
       "\t<tr><th scope=row>95</th><td>0.0006135061</td><td>133         </td><td>0.5609703   </td><td>0.7645033   </td><td>0.01622708  </td></tr>\n",
       "\t<tr><th scope=row>96</th><td>0.0006134289</td><td>134         </td><td>0.5603568   </td><td>0.7646129   </td><td>0.01622584  </td></tr>\n",
       "\t<tr><th scope=row>97</th><td>0.0006105196</td><td>135         </td><td>0.5597434   </td><td>0.7642523   </td><td>0.01622211  </td></tr>\n",
       "\t<tr><th scope=row>98</th><td>0.0006060495</td><td>136         </td><td>0.5591329   </td><td>0.7637793   </td><td>0.01621107  </td></tr>\n",
       "\t<tr><th scope=row>99</th><td>0.0005971901</td><td>137         </td><td>0.5585268   </td><td>0.7643184   </td><td>0.01620677  </td></tr>\n",
       "\t<tr><th scope=row>100</th><td>0.0005966973</td><td>140         </td><td>0.5567352   </td><td>0.7642586   </td><td>0.01622667  </td></tr>\n",
       "\t<tr><th scope=row>101</th><td>0.0005835875</td><td>146         </td><td>0.5531551   </td><td>0.7647567   </td><td>0.01625477  </td></tr>\n",
       "\t<tr><th scope=row>102</th><td>0.0005828151</td><td>149         </td><td>0.5514043   </td><td>0.7667595   </td><td>0.01629192  </td></tr>\n",
       "\t<tr><th scope=row>103</th><td>0.0005726847</td><td>150         </td><td>0.5508215   </td><td>0.7674104   </td><td>0.01629170  </td></tr>\n",
       "\t<tr><th scope=row>104</th><td>0.0005632923</td><td>151         </td><td>0.5502488   </td><td>0.7691442   </td><td>0.01634128  </td></tr>\n",
       "\t<tr><th scope=row>105</th><td>0.0005494546</td><td>152         </td><td>0.5496855   </td><td>0.7700120   </td><td>0.01636329  </td></tr>\n",
       "\t<tr><th scope=row>106</th><td>0.0005471567</td><td>154         </td><td>0.5485866   </td><td>0.7726329   </td><td>0.01639751  </td></tr>\n",
       "\t<tr><th scope=row>107</th><td>0.0005367654</td><td>155         </td><td>0.5480394   </td><td>0.7729901   </td><td>0.01638628  </td></tr>\n",
       "\t<tr><th scope=row>108</th><td>0.0005333288</td><td>156         </td><td>0.5475027   </td><td>0.7746594   </td><td>0.01642253  </td></tr>\n",
       "\t<tr><th scope=row>109</th><td>0.0005268033</td><td>157         </td><td>0.5469693   </td><td>0.7770616   </td><td>0.01648197  </td></tr>\n",
       "\t<tr><th scope=row>110</th><td>0.0005245475</td><td>158         </td><td>0.5464425   </td><td>0.7775354   </td><td>0.01649270  </td></tr>\n",
       "\t<tr><th scope=row>111</th><td>0.0005199975</td><td>159         </td><td>0.5459180   </td><td>0.7766434   </td><td>0.01645944  </td></tr>\n",
       "\t<tr><th scope=row>112</th><td>0.0005199431</td><td>160         </td><td>0.5453980   </td><td>0.7767760   </td><td>0.01646736  </td></tr>\n",
       "\t<tr><th scope=row>113</th><td>0.0005135674</td><td>163         </td><td>0.5438382   </td><td>0.7769180   </td><td>0.01646324  </td></tr>\n",
       "\t<tr><th scope=row>114</th><td>0.0005127257</td><td>164         </td><td>0.5433246   </td><td>0.7786473   </td><td>0.01649017  </td></tr>\n",
       "\t<tr><th scope=row>115</th><td>0.0005053917</td><td>165         </td><td>0.5428119   </td><td>0.7798499   </td><td>0.01650386  </td></tr>\n",
       "\t<tr><th scope=row>116</th><td>0.0005000000</td><td>166         </td><td>0.5423065   </td><td>0.7809557   </td><td>0.01650530  </td></tr>\n",
       "</tbody>\n",
       "</table>\n"
      ],
      "text/latex": [
       "\\begin{tabular}{r|lllll}\n",
       "  & CP & nsplit & rel error & xerror & xstd\\\\\n",
       "\\hline\n",
       "\t1 & 0.168101026 &  0          & 1.0000000   & 1.0006868   & 0.01884762 \\\\\n",
       "\t2 & 0.040132447 &  1          & 0.8318990   & 0.8384466   & 0.01639791 \\\\\n",
       "\t3 & 0.024691577 &  2          & 0.7917665   & 0.8096457   & 0.01604370 \\\\\n",
       "\t4 & 0.016451165 &  3          & 0.7670750   & 0.7819285   & 0.01567037 \\\\\n",
       "\t5 & 0.012602638 &  4          & 0.7506238   & 0.7693481   & 0.01556459 \\\\\n",
       "\t6 & 0.008840782 &  5          & 0.7380211   & 0.7557789   & 0.01537353 \\\\\n",
       "\t7 & 0.007361570 &  6          & 0.7291804   & 0.7502001   & 0.01535466 \\\\\n",
       "\t8 & 0.006567605 &  7          & 0.7218188   & 0.7461622   & 0.01532097 \\\\\n",
       "\t9 & 0.006347176 &  8          & 0.7152512   & 0.7444381   & 0.01536335 \\\\\n",
       "\t10 & 0.006086575 &  9          & 0.7089040   & 0.7435309   & 0.01537299 \\\\\n",
       "\t11 & 0.005017477 & 10          & 0.7028174   & 0.7369966   & 0.01526152 \\\\\n",
       "\t12 & 0.004503105 & 11          & 0.6978000   & 0.7285658   & 0.01507660 \\\\\n",
       "\t13 & 0.003306393 & 12          & 0.6932969   & 0.7216732   & 0.01490884 \\\\\n",
       "\t14 & 0.003089504 & 13          & 0.6899905   & 0.7201541   & 0.01493562 \\\\\n",
       "\t15 & 0.002992418 & 14          & 0.6869010   & 0.7201457   & 0.01492917 \\\\\n",
       "\t16 & 0.002939107 & 15          & 0.6839085   & 0.7204833   & 0.01496380 \\\\\n",
       "\t17 & 0.002766834 & 16          & 0.6809694   & 0.7206122   & 0.01494150 \\\\\n",
       "\t18 & 0.002665383 & 17          & 0.6782026   & 0.7200686   & 0.01494466 \\\\\n",
       "\t19 & 0.002394897 & 18          & 0.6755372   & 0.7188293   & 0.01491783 \\\\\n",
       "\t20 & 0.002350513 & 19          & 0.6731423   & 0.7190873   & 0.01497993 \\\\\n",
       "\t21 & 0.002261763 & 20          & 0.6707918   & 0.7183259   & 0.01498617 \\\\\n",
       "\t22 & 0.002156490 & 21          & 0.6685300   & 0.7178285   & 0.01498185 \\\\\n",
       "\t23 & 0.002142359 & 22          & 0.6663736   & 0.7178096   & 0.01498187 \\\\\n",
       "\t24 & 0.002066244 & 23          & 0.6642312   & 0.7183666   & 0.01500479 \\\\\n",
       "\t25 & 0.001973434 & 24          & 0.6621650   & 0.7165036   & 0.01497618 \\\\\n",
       "\t26 & 0.001887961 & 25          & 0.6601915   & 0.7147510   & 0.01498483 \\\\\n",
       "\t27 & 0.001664167 & 26          & 0.6583036   & 0.7142552   & 0.01495818 \\\\\n",
       "\t28 & 0.001605575 & 27          & 0.6566394   & 0.7138892   & 0.01499368 \\\\\n",
       "\t29 & 0.001546625 & 29          & 0.6534282   & 0.7136424   & 0.01493887 \\\\\n",
       "\t30 & 0.001546082 & 30          & 0.6518816   & 0.7134457   & 0.01494442 \\\\\n",
       "\t... & ... & ... & ... & ... & ...\\\\\n",
       "\t87 & 0.0006726706 & 125          & 0.5662054    & 0.7544692    & 0.01598939  \\\\\n",
       "\t88 & 0.0006721945 & 126          & 0.5655328    & 0.7540392    & 0.01598626  \\\\\n",
       "\t89 & 0.0006608792 & 127          & 0.5648606    & 0.7561619    & 0.01605753  \\\\\n",
       "\t90 & 0.0006593075 & 128          & 0.5641997    & 0.7573580    & 0.01609104  \\\\\n",
       "\t91 & 0.0006548744 & 129          & 0.5635404    & 0.7576013    & 0.01610059  \\\\\n",
       "\t92 & 0.0006519426 & 130          & 0.5628855    & 0.7571653    & 0.01611339  \\\\\n",
       "\t93 & 0.0006448015 & 131          & 0.5622336    & 0.7579926    & 0.01612268  \\\\\n",
       "\t94 & 0.0006184416 & 132          & 0.5615888    & 0.7617204    & 0.01616672  \\\\\n",
       "\t95 & 0.0006135061 & 133          & 0.5609703    & 0.7645033    & 0.01622708  \\\\\n",
       "\t96 & 0.0006134289 & 134          & 0.5603568    & 0.7646129    & 0.01622584  \\\\\n",
       "\t97 & 0.0006105196 & 135          & 0.5597434    & 0.7642523    & 0.01622211  \\\\\n",
       "\t98 & 0.0006060495 & 136          & 0.5591329    & 0.7637793    & 0.01621107  \\\\\n",
       "\t99 & 0.0005971901 & 137          & 0.5585268    & 0.7643184    & 0.01620677  \\\\\n",
       "\t100 & 0.0005966973 & 140          & 0.5567352    & 0.7642586    & 0.01622667  \\\\\n",
       "\t101 & 0.0005835875 & 146          & 0.5531551    & 0.7647567    & 0.01625477  \\\\\n",
       "\t102 & 0.0005828151 & 149          & 0.5514043    & 0.7667595    & 0.01629192  \\\\\n",
       "\t103 & 0.0005726847 & 150          & 0.5508215    & 0.7674104    & 0.01629170  \\\\\n",
       "\t104 & 0.0005632923 & 151          & 0.5502488    & 0.7691442    & 0.01634128  \\\\\n",
       "\t105 & 0.0005494546 & 152          & 0.5496855    & 0.7700120    & 0.01636329  \\\\\n",
       "\t106 & 0.0005471567 & 154          & 0.5485866    & 0.7726329    & 0.01639751  \\\\\n",
       "\t107 & 0.0005367654 & 155          & 0.5480394    & 0.7729901    & 0.01638628  \\\\\n",
       "\t108 & 0.0005333288 & 156          & 0.5475027    & 0.7746594    & 0.01642253  \\\\\n",
       "\t109 & 0.0005268033 & 157          & 0.5469693    & 0.7770616    & 0.01648197  \\\\\n",
       "\t110 & 0.0005245475 & 158          & 0.5464425    & 0.7775354    & 0.01649270  \\\\\n",
       "\t111 & 0.0005199975 & 159          & 0.5459180    & 0.7766434    & 0.01645944  \\\\\n",
       "\t112 & 0.0005199431 & 160          & 0.5453980    & 0.7767760    & 0.01646736  \\\\\n",
       "\t113 & 0.0005135674 & 163          & 0.5438382    & 0.7769180    & 0.01646324  \\\\\n",
       "\t114 & 0.0005127257 & 164          & 0.5433246    & 0.7786473    & 0.01649017  \\\\\n",
       "\t115 & 0.0005053917 & 165          & 0.5428119    & 0.7798499    & 0.01650386  \\\\\n",
       "\t116 & 0.0005000000 & 166          & 0.5423065    & 0.7809557    & 0.01650530  \\\\\n",
       "\\end{tabular}\n"
      ],
      "text/markdown": [
       "\n",
       "| <!--/--> | CP | nsplit | rel error | xerror | xstd | \n",
       "|---|---|---|---|---|---|---|---|---|---|---|---|---|---|---|---|---|---|---|---|---|---|---|---|---|---|---|---|---|---|---|---|---|---|---|---|---|---|---|---|---|---|---|---|---|---|---|---|---|---|---|---|---|---|---|---|---|---|---|---|---|\n",
       "| 1 | 0.168101026 |  0          | 1.0000000   | 1.0006868   | 0.01884762  | \n",
       "| 2 | 0.040132447 |  1          | 0.8318990   | 0.8384466   | 0.01639791  | \n",
       "| 3 | 0.024691577 |  2          | 0.7917665   | 0.8096457   | 0.01604370  | \n",
       "| 4 | 0.016451165 |  3          | 0.7670750   | 0.7819285   | 0.01567037  | \n",
       "| 5 | 0.012602638 |  4          | 0.7506238   | 0.7693481   | 0.01556459  | \n",
       "| 6 | 0.008840782 |  5          | 0.7380211   | 0.7557789   | 0.01537353  | \n",
       "| 7 | 0.007361570 |  6          | 0.7291804   | 0.7502001   | 0.01535466  | \n",
       "| 8 | 0.006567605 |  7          | 0.7218188   | 0.7461622   | 0.01532097  | \n",
       "| 9 | 0.006347176 |  8          | 0.7152512   | 0.7444381   | 0.01536335  | \n",
       "| 10 | 0.006086575 |  9          | 0.7089040   | 0.7435309   | 0.01537299  | \n",
       "| 11 | 0.005017477 | 10          | 0.7028174   | 0.7369966   | 0.01526152  | \n",
       "| 12 | 0.004503105 | 11          | 0.6978000   | 0.7285658   | 0.01507660  | \n",
       "| 13 | 0.003306393 | 12          | 0.6932969   | 0.7216732   | 0.01490884  | \n",
       "| 14 | 0.003089504 | 13          | 0.6899905   | 0.7201541   | 0.01493562  | \n",
       "| 15 | 0.002992418 | 14          | 0.6869010   | 0.7201457   | 0.01492917  | \n",
       "| 16 | 0.002939107 | 15          | 0.6839085   | 0.7204833   | 0.01496380  | \n",
       "| 17 | 0.002766834 | 16          | 0.6809694   | 0.7206122   | 0.01494150  | \n",
       "| 18 | 0.002665383 | 17          | 0.6782026   | 0.7200686   | 0.01494466  | \n",
       "| 19 | 0.002394897 | 18          | 0.6755372   | 0.7188293   | 0.01491783  | \n",
       "| 20 | 0.002350513 | 19          | 0.6731423   | 0.7190873   | 0.01497993  | \n",
       "| 21 | 0.002261763 | 20          | 0.6707918   | 0.7183259   | 0.01498617  | \n",
       "| 22 | 0.002156490 | 21          | 0.6685300   | 0.7178285   | 0.01498185  | \n",
       "| 23 | 0.002142359 | 22          | 0.6663736   | 0.7178096   | 0.01498187  | \n",
       "| 24 | 0.002066244 | 23          | 0.6642312   | 0.7183666   | 0.01500479  | \n",
       "| 25 | 0.001973434 | 24          | 0.6621650   | 0.7165036   | 0.01497618  | \n",
       "| 26 | 0.001887961 | 25          | 0.6601915   | 0.7147510   | 0.01498483  | \n",
       "| 27 | 0.001664167 | 26          | 0.6583036   | 0.7142552   | 0.01495818  | \n",
       "| 28 | 0.001605575 | 27          | 0.6566394   | 0.7138892   | 0.01499368  | \n",
       "| 29 | 0.001546625 | 29          | 0.6534282   | 0.7136424   | 0.01493887  | \n",
       "| 30 | 0.001546082 | 30          | 0.6518816   | 0.7134457   | 0.01494442  | \n",
       "| ... | ... | ... | ... | ... | ... | \n",
       "| 87 | 0.0006726706 | 125          | 0.5662054    | 0.7544692    | 0.01598939   | \n",
       "| 88 | 0.0006721945 | 126          | 0.5655328    | 0.7540392    | 0.01598626   | \n",
       "| 89 | 0.0006608792 | 127          | 0.5648606    | 0.7561619    | 0.01605753   | \n",
       "| 90 | 0.0006593075 | 128          | 0.5641997    | 0.7573580    | 0.01609104   | \n",
       "| 91 | 0.0006548744 | 129          | 0.5635404    | 0.7576013    | 0.01610059   | \n",
       "| 92 | 0.0006519426 | 130          | 0.5628855    | 0.7571653    | 0.01611339   | \n",
       "| 93 | 0.0006448015 | 131          | 0.5622336    | 0.7579926    | 0.01612268   | \n",
       "| 94 | 0.0006184416 | 132          | 0.5615888    | 0.7617204    | 0.01616672   | \n",
       "| 95 | 0.0006135061 | 133          | 0.5609703    | 0.7645033    | 0.01622708   | \n",
       "| 96 | 0.0006134289 | 134          | 0.5603568    | 0.7646129    | 0.01622584   | \n",
       "| 97 | 0.0006105196 | 135          | 0.5597434    | 0.7642523    | 0.01622211   | \n",
       "| 98 | 0.0006060495 | 136          | 0.5591329    | 0.7637793    | 0.01621107   | \n",
       "| 99 | 0.0005971901 | 137          | 0.5585268    | 0.7643184    | 0.01620677   | \n",
       "| 100 | 0.0005966973 | 140          | 0.5567352    | 0.7642586    | 0.01622667   | \n",
       "| 101 | 0.0005835875 | 146          | 0.5531551    | 0.7647567    | 0.01625477   | \n",
       "| 102 | 0.0005828151 | 149          | 0.5514043    | 0.7667595    | 0.01629192   | \n",
       "| 103 | 0.0005726847 | 150          | 0.5508215    | 0.7674104    | 0.01629170   | \n",
       "| 104 | 0.0005632923 | 151          | 0.5502488    | 0.7691442    | 0.01634128   | \n",
       "| 105 | 0.0005494546 | 152          | 0.5496855    | 0.7700120    | 0.01636329   | \n",
       "| 106 | 0.0005471567 | 154          | 0.5485866    | 0.7726329    | 0.01639751   | \n",
       "| 107 | 0.0005367654 | 155          | 0.5480394    | 0.7729901    | 0.01638628   | \n",
       "| 108 | 0.0005333288 | 156          | 0.5475027    | 0.7746594    | 0.01642253   | \n",
       "| 109 | 0.0005268033 | 157          | 0.5469693    | 0.7770616    | 0.01648197   | \n",
       "| 110 | 0.0005245475 | 158          | 0.5464425    | 0.7775354    | 0.01649270   | \n",
       "| 111 | 0.0005199975 | 159          | 0.5459180    | 0.7766434    | 0.01645944   | \n",
       "| 112 | 0.0005199431 | 160          | 0.5453980    | 0.7767760    | 0.01646736   | \n",
       "| 113 | 0.0005135674 | 163          | 0.5438382    | 0.7769180    | 0.01646324   | \n",
       "| 114 | 0.0005127257 | 164          | 0.5433246    | 0.7786473    | 0.01649017   | \n",
       "| 115 | 0.0005053917 | 165          | 0.5428119    | 0.7798499    | 0.01650386   | \n",
       "| 116 | 0.0005000000 | 166          | 0.5423065    | 0.7809557    | 0.01650530   | \n",
       "\n",
       "\n"
      ],
      "text/plain": [
       "    CP           nsplit rel error xerror    xstd      \n",
       "1   0.168101026   0     1.0000000 1.0006868 0.01884762\n",
       "2   0.040132447   1     0.8318990 0.8384466 0.01639791\n",
       "3   0.024691577   2     0.7917665 0.8096457 0.01604370\n",
       "4   0.016451165   3     0.7670750 0.7819285 0.01567037\n",
       "5   0.012602638   4     0.7506238 0.7693481 0.01556459\n",
       "6   0.008840782   5     0.7380211 0.7557789 0.01537353\n",
       "7   0.007361570   6     0.7291804 0.7502001 0.01535466\n",
       "8   0.006567605   7     0.7218188 0.7461622 0.01532097\n",
       "9   0.006347176   8     0.7152512 0.7444381 0.01536335\n",
       "10  0.006086575   9     0.7089040 0.7435309 0.01537299\n",
       "11  0.005017477  10     0.7028174 0.7369966 0.01526152\n",
       "12  0.004503105  11     0.6978000 0.7285658 0.01507660\n",
       "13  0.003306393  12     0.6932969 0.7216732 0.01490884\n",
       "14  0.003089504  13     0.6899905 0.7201541 0.01493562\n",
       "15  0.002992418  14     0.6869010 0.7201457 0.01492917\n",
       "16  0.002939107  15     0.6839085 0.7204833 0.01496380\n",
       "17  0.002766834  16     0.6809694 0.7206122 0.01494150\n",
       "18  0.002665383  17     0.6782026 0.7200686 0.01494466\n",
       "19  0.002394897  18     0.6755372 0.7188293 0.01491783\n",
       "20  0.002350513  19     0.6731423 0.7190873 0.01497993\n",
       "21  0.002261763  20     0.6707918 0.7183259 0.01498617\n",
       "22  0.002156490  21     0.6685300 0.7178285 0.01498185\n",
       "23  0.002142359  22     0.6663736 0.7178096 0.01498187\n",
       "24  0.002066244  23     0.6642312 0.7183666 0.01500479\n",
       "25  0.001973434  24     0.6621650 0.7165036 0.01497618\n",
       "26  0.001887961  25     0.6601915 0.7147510 0.01498483\n",
       "27  0.001664167  26     0.6583036 0.7142552 0.01495818\n",
       "28  0.001605575  27     0.6566394 0.7138892 0.01499368\n",
       "29  0.001546625  29     0.6534282 0.7136424 0.01493887\n",
       "30  0.001546082  30     0.6518816 0.7134457 0.01494442\n",
       "... ...          ...    ...       ...       ...       \n",
       "87  0.0006726706 125    0.5662054 0.7544692 0.01598939\n",
       "88  0.0006721945 126    0.5655328 0.7540392 0.01598626\n",
       "89  0.0006608792 127    0.5648606 0.7561619 0.01605753\n",
       "90  0.0006593075 128    0.5641997 0.7573580 0.01609104\n",
       "91  0.0006548744 129    0.5635404 0.7576013 0.01610059\n",
       "92  0.0006519426 130    0.5628855 0.7571653 0.01611339\n",
       "93  0.0006448015 131    0.5622336 0.7579926 0.01612268\n",
       "94  0.0006184416 132    0.5615888 0.7617204 0.01616672\n",
       "95  0.0006135061 133    0.5609703 0.7645033 0.01622708\n",
       "96  0.0006134289 134    0.5603568 0.7646129 0.01622584\n",
       "97  0.0006105196 135    0.5597434 0.7642523 0.01622211\n",
       "98  0.0006060495 136    0.5591329 0.7637793 0.01621107\n",
       "99  0.0005971901 137    0.5585268 0.7643184 0.01620677\n",
       "100 0.0005966973 140    0.5567352 0.7642586 0.01622667\n",
       "101 0.0005835875 146    0.5531551 0.7647567 0.01625477\n",
       "102 0.0005828151 149    0.5514043 0.7667595 0.01629192\n",
       "103 0.0005726847 150    0.5508215 0.7674104 0.01629170\n",
       "104 0.0005632923 151    0.5502488 0.7691442 0.01634128\n",
       "105 0.0005494546 152    0.5496855 0.7700120 0.01636329\n",
       "106 0.0005471567 154    0.5485866 0.7726329 0.01639751\n",
       "107 0.0005367654 155    0.5480394 0.7729901 0.01638628\n",
       "108 0.0005333288 156    0.5475027 0.7746594 0.01642253\n",
       "109 0.0005268033 157    0.5469693 0.7770616 0.01648197\n",
       "110 0.0005245475 158    0.5464425 0.7775354 0.01649270\n",
       "111 0.0005199975 159    0.5459180 0.7766434 0.01645944\n",
       "112 0.0005199431 160    0.5453980 0.7767760 0.01646736\n",
       "113 0.0005135674 163    0.5438382 0.7769180 0.01646324\n",
       "114 0.0005127257 164    0.5433246 0.7786473 0.01649017\n",
       "115 0.0005053917 165    0.5428119 0.7798499 0.01650386\n",
       "116 0.0005000000 166    0.5423065 0.7809557 0.01650530"
      ]
     },
     "metadata": {},
     "output_type": "display_data"
    }
   ],
   "source": [
    "# R^2 = cor(pred,y)^2\n",
    "\n",
    "cor(pred, TESTING$MATH7)^2\n",
    "\n",
    "### Cross-validated Tree\n",
    "\n",
    "Tree2 = rpart(MATH7 ~  GENDER + POVRTY + RACE + KINDER1 +\n",
    "               FMOTOR + GMOTOR + SCONTROL + INTERP + EXTERN + \n",
    "               INTERN + GENERAL + MOM_ED,\n",
    "             data = TRAINING,\n",
    "             control = rpart.control(cp = .0005))\n",
    "\n",
    "Tree2$cptable"
   ]
  },
  {
   "cell_type": "code",
   "execution_count": 195,
   "metadata": {},
   "outputs": [
    {
     "name": "stderr",
     "output_type": "stream",
     "text": [
      "Warning message:\n",
      "\"labs do not fit even at cex 0.15, there may be some overplotting\""
     ]
    },
    {
     "data": {
      "image/png": "[encoded data removed]",
      "text/plain": [
       "Plot with title \"TITLE\""
      ]
     },
     "metadata": {},
     "output_type": "display_data"
    }
   ],
   "source": [
    "rpart.plot(Tree2, box.palette = \"Reds\",main='TITLE')"
   ]
  },
  {
   "cell_type": "code",
   "execution_count": 157,
   "metadata": {},
   "outputs": [
    {
     "data": {
      "image/png": "[encoded data removed]",
      "text/plain": [
       "Plot with title \"Plot Conditional Prob Table\""
      ]
     },
     "metadata": {},
     "output_type": "display_data"
    }
   ],
   "source": [
    "plot(Tree2$cptable[,2], Tree2$cptable[,3], type = \"p\",col=\"red\", lwd = 2,\n",
    "    ylab='rel error',\n",
    "    xlab='count',\n",
    "    main='Plot Conditional Prob Table')\n",
    "lines(Tree2$cptable[,2], Tree2$cptable[,4], type= 'p',col=\"blue\", lwd = 2)\n",
    "box(bty=\"o\",col =\"#d3d3d3\",lwd=5,bg=\"#ffdb58\")\n"
   ]
  },
  {
   "cell_type": "code",
   "execution_count": 105,
   "metadata": {},
   "outputs": [
    {
     "name": "stdout",
     "output_type": "stream",
     "text": [
      "Minimum Value from Conditional Probability Table:  0.001887961"
     ]
    }
   ],
   "source": [
    "minCP = Tree2$cptable[which.min(Tree2$cptable[,4]),1]\n",
    "\n",
    "cat(\"Minimum Value from Conditional Probability Table: \", minCP)"
   ]
  },
  {
   "cell_type": "code",
   "execution_count": 27,
   "metadata": {},
   "outputs": [
    {
     "data": {
      "text/plain": [
       "n= 4778 \n",
       "\n",
       "node), split, n, deviance, yval\n",
       "      * denotes terminal node\n",
       "\n",
       "  1) root 4778 871.799100 1.5225660  \n",
       "    2) GENERAL< 23.5 2222 383.751200 1.3347300  \n",
       "      4) GENERAL< 17.5 1009 176.576000 1.1971460  \n",
       "        8) FMOTOR< 5.5 572  87.098870 1.0929370  \n",
       "         16) POVRTY< 1.5 206  22.438370 0.9517476  \n",
       "           32) GENERAL< 13.5 126  11.020350 0.8606349 *\n",
       "           33) GENERAL>=13.5 80   8.724595 1.0952500 *\n",
       "         17) POVRTY>=1.5 366  58.242680 1.1724040  \n",
       "           34) MOM_ED< 4.5 195  27.860900 1.0940510  \n",
       "             68) FMOTOR< 1.5 24   2.095250 0.8375000 *\n",
       "             69) FMOTOR>=1.5 171  23.964300 1.1300580 *\n",
       "           35) MOM_ED>=4.5 171  27.819470 1.2617540 *\n",
       "        9) FMOTOR>=5.5 437  75.135000 1.3335470  \n",
       "         18) MOM_ED< 5.5 358  56.274180 1.2797770  \n",
       "           36) INTERN>=1.585 143  18.977570 1.1751050 *\n",
       "           37) INTERN< 1.585 215  34.687820 1.3493950  \n",
       "             74) FMOTOR< 8.5 193  30.154690 1.3178240  \n",
       "              148) RACE=2 55   5.776680 1.1620000 *\n",
       "              149) RACE=1,3,4 138  22.510300 1.3799280 *\n",
       "             75) FMOTOR>=8.5 22   2.653109 1.6263640 *\n",
       "         19) MOM_ED>=5.5 79  13.135190 1.5772150 *\n",
       "      5) GENERAL>=17.5 1213 172.187800 1.4491760  \n",
       "       10) FMOTOR< 6.5 694  85.352110 1.3668730  \n",
       "         20) RACE=2 94   8.993264 1.1459570 *\n",
       "         21) RACE=1,3,4 600  71.052580 1.4014830  \n",
       "           42) MOM_ED< 3.5 247  27.914950 1.3316190 *\n",
       "           43) MOM_ED>=3.5 353  41.088450 1.4503680 *\n",
       "       11) FMOTOR>=6.5 519  75.848690 1.5592290  \n",
       "         22) MOM_ED< 5.5 401  53.948150 1.5032170  \n",
       "           44) INTERP< 2.775 109  15.010890 1.3786240 *\n",
       "           45) INTERP>=2.775 292  36.613580 1.5497260 *\n",
       "         23) MOM_ED>=5.5 118  16.367080 1.7495760 *\n",
       "    3) GENERAL>=23.5 2556 341.497600 1.6858570  \n",
       "      6) MOM_ED< 5.5 1510 198.123500 1.6094770  \n",
       "       12) GENERAL< 31.5 1147 143.924600 1.5692850  \n",
       "         24) FMOTOR< 7.5 788  99.212970 1.5297970  \n",
       "           48) MOM_ED< 3.5 347  44.411700 1.4616140  \n",
       "             96) EXTERN>=1.325 176  23.448540 1.3794320 *\n",
       "             97) EXTERN< 1.325 171  18.551030 1.5461990 *\n",
       "           49) MOM_ED>=3.5 441  51.918760 1.5834470 *\n",
       "         25) FMOTOR>=7.5 359  40.785840 1.6559610 *\n",
       "       13) GENERAL>=31.5 363  46.491490 1.7364740  \n",
       "         26) EXTERN>=2.1 49   5.786612 1.5444900 *\n",
       "         27) EXTERN< 2.1 314  38.617010 1.7664330 *\n",
       "      7) MOM_ED>=5.5 1046 121.848000 1.7961190  \n",
       "       14) GENERAL< 26.5 195  23.172190 1.6610260 *\n",
       "       15) GENERAL>=26.5 851  94.301610 1.8270740  \n",
       "         30) GENERAL< 38.5 780  86.871820 1.8125510  \n",
       "           60) FMOTOR< 6.5 333  39.142250 1.7581380 *\n",
       "           61) FMOTOR>=6.5 447  46.009140 1.8530870 *\n",
       "         31) GENERAL>=38.5 71   5.457989 1.9866200 *"
      ]
     },
     "metadata": {},
     "output_type": "display_data"
    }
   ],
   "source": [
    "Tree.pruned = prune.rpart(Tree2, cp = minCP)\n",
    "Tree.pruned"
   ]
  },
  {
   "cell_type": "code",
   "execution_count": 103,
   "metadata": {},
   "outputs": [
    {
     "name": "stdout",
     "output_type": "stream",
     "text": [
      "First 10 results: "
     ]
    },
    {
     "data": {
      "text/html": [
       "<dl class=dl-horizontal>\n",
       "\t<dt>4779</dt>\n",
       "\t\t<dd>1.37992753623188</dd>\n",
       "\t<dt>4780</dt>\n",
       "\t\t<dd>1.26175438596491</dd>\n",
       "\t<dt>4781</dt>\n",
       "\t\t<dd>1.58344671201814</dd>\n",
       "\t<dt>4782</dt>\n",
       "\t\t<dd>1.76643312101911</dd>\n",
       "\t<dt>4783</dt>\n",
       "\t\t<dd>1.45036827195467</dd>\n",
       "\t<dt>4784</dt>\n",
       "\t\t<dd>1.54972602739726</dd>\n",
       "\t<dt>4785</dt>\n",
       "\t\t<dd>1.66102564102564</dd>\n",
       "\t<dt>4786</dt>\n",
       "\t\t<dd>1.13005847953216</dd>\n",
       "\t<dt>4787</dt>\n",
       "\t\t<dd>1.65596100278551</dd>\n",
       "\t<dt>4788</dt>\n",
       "\t\t<dd>1.76643312101911</dd>\n",
       "</dl>\n"
      ],
      "text/latex": [
       "\\begin{description*}\n",
       "\\item[4779] 1.37992753623188\n",
       "\\item[4780] 1.26175438596491\n",
       "\\item[4781] 1.58344671201814\n",
       "\\item[4782] 1.76643312101911\n",
       "\\item[4783] 1.45036827195467\n",
       "\\item[4784] 1.54972602739726\n",
       "\\item[4785] 1.66102564102564\n",
       "\\item[4786] 1.13005847953216\n",
       "\\item[4787] 1.65596100278551\n",
       "\\item[4788] 1.76643312101911\n",
       "\\end{description*}\n"
      ],
      "text/markdown": [
       "4779\n",
       ":   1.379927536231884780\n",
       ":   1.261754385964914781\n",
       ":   1.583446712018144782\n",
       ":   1.766433121019114783\n",
       ":   1.450368271954674784\n",
       ":   1.549726027397264785\n",
       ":   1.661025641025644786\n",
       ":   1.130058479532164787\n",
       ":   1.655961002785514788\n",
       ":   1.76643312101911\n",
       "\n"
      ],
      "text/plain": [
       "    4779     4780     4781     4782     4783     4784     4785     4786 \n",
       "1.379928 1.261754 1.583447 1.766433 1.450368 1.549726 1.661026 1.130058 \n",
       "    4787     4788 \n",
       "1.655961 1.766433 "
      ]
     },
     "metadata": {},
     "output_type": "display_data"
    },
    {
     "name": "stdout",
     "output_type": "stream",
     "text": [
      "...\n",
      "Last 5 results: "
     ]
    },
    {
     "data": {
      "text/html": [
       "<dl class=dl-horizontal>\n",
       "\t<dt>6367</dt>\n",
       "\t\t<dd>1.26175438596491</dd>\n",
       "\t<dt>6368</dt>\n",
       "\t\t<dd>1.54972602739726</dd>\n",
       "\t<dt>6369</dt>\n",
       "\t\t<dd>1.54619883040936</dd>\n",
       "\t<dt>6370</dt>\n",
       "\t\t<dd>1.85308724832215</dd>\n",
       "\t<dt>6371</dt>\n",
       "\t\t<dd>1.09525</dd>\n",
       "</dl>\n"
      ],
      "text/latex": [
       "\\begin{description*}\n",
       "\\item[6367] 1.26175438596491\n",
       "\\item[6368] 1.54972602739726\n",
       "\\item[6369] 1.54619883040936\n",
       "\\item[6370] 1.85308724832215\n",
       "\\item[6371] 1.09525\n",
       "\\end{description*}\n"
      ],
      "text/markdown": [
       "6367\n",
       ":   1.261754385964916368\n",
       ":   1.549726027397266369\n",
       ":   1.546198830409366370\n",
       ":   1.853087248322156371\n",
       ":   1.09525\n",
       "\n"
      ],
      "text/plain": [
       "    6367     6368     6369     6370     6371 \n",
       "1.261754 1.549726 1.546199 1.853087 1.095250 "
      ]
     },
     "metadata": {},
     "output_type": "display_data"
    }
   ],
   "source": [
    "pred = predict(Tree.pruned, TESTING)\n",
    "\n",
    "#cat('All Results: ')\n",
    "#pred\n",
    "#decided to reduce output of above\n",
    "\n",
    "cat('First 10 results: ')\n",
    "head(pred, n=10)\n",
    "cat('...')\n",
    "cat('\\nLast 5 results: ')\n",
    "tail(pred, n=5)"
   ]
  },
  {
   "cell_type": "code",
   "execution_count": 104,
   "metadata": {},
   "outputs": [
    {
     "data": {
      "text/html": [
       "0.273483595823516"
      ],
      "text/latex": [
       "0.273483595823516"
      ],
      "text/markdown": [
       "0.273483595823516"
      ],
      "text/plain": [
       "[1] 0.2734836"
      ]
     },
     "metadata": {},
     "output_type": "display_data"
    },
    {
     "name": "stdout",
     "output_type": "stream",
     "text": [
      "Correlation:  0.2734836"
     ]
    }
   ],
   "source": [
    "#R^2\n",
    "cor(pred, TESTING$MATH7)^2\n",
    "\n",
    "cat(\"Correlation: \", cor(pred, TESTING$MATH7)^2)"
   ]
  },
  {
   "cell_type": "code",
   "execution_count": 31,
   "metadata": {},
   "outputs": [
    {
     "data": {
      "image/png": "[encoded data removed]",
      "text/plain": [
       "plot without title"
      ]
     },
     "metadata": {},
     "output_type": "display_data"
    }
   ],
   "source": [
    "rpart.plot(Tree.pruned)"
   ]
  },
  {
   "cell_type": "code",
   "execution_count": 32,
   "metadata": {},
   "outputs": [
    {
     "data": {
      "text/plain": [
       "n= 4778 \n",
       "\n",
       "node), split, n, deviance, yval\n",
       "      * denotes terminal node\n",
       "\n",
       "  1) root 4778 871.799100 1.5225660  \n",
       "    2) GENERAL< 23.5 2222 383.751200 1.3347300  \n",
       "      4) GENERAL< 17.5 1009 176.576000 1.1971460  \n",
       "        8) FMOTOR< 5.5 572  87.098870 1.0929370  \n",
       "         16) POVRTY< 1.5 206  22.438370 0.9517476  \n",
       "           32) GENERAL< 13.5 126  11.020350 0.8606349 *\n",
       "           33) GENERAL>=13.5 80   8.724595 1.0952500 *\n",
       "         17) POVRTY>=1.5 366  58.242680 1.1724040  \n",
       "           34) MOM_ED< 4.5 195  27.860900 1.0940510  \n",
       "             68) FMOTOR< 1.5 24   2.095250 0.8375000 *\n",
       "             69) FMOTOR>=1.5 171  23.964300 1.1300580 *\n",
       "           35) MOM_ED>=4.5 171  27.819470 1.2617540 *\n",
       "        9) FMOTOR>=5.5 437  75.135000 1.3335470  \n",
       "         18) MOM_ED< 5.5 358  56.274180 1.2797770  \n",
       "           36) INTERN>=1.585 143  18.977570 1.1751050 *\n",
       "           37) INTERN< 1.585 215  34.687820 1.3493950  \n",
       "             74) FMOTOR< 8.5 193  30.154690 1.3178240  \n",
       "              148) RACE=2 55   5.776680 1.1620000 *\n",
       "              149) RACE=1,3,4 138  22.510300 1.3799280 *\n",
       "             75) FMOTOR>=8.5 22   2.653109 1.6263640 *\n",
       "         19) MOM_ED>=5.5 79  13.135190 1.5772150 *\n",
       "      5) GENERAL>=17.5 1213 172.187800 1.4491760  \n",
       "       10) FMOTOR< 6.5 694  85.352110 1.3668730  \n",
       "         20) RACE=2 94   8.993264 1.1459570 *\n",
       "         21) RACE=1,3,4 600  71.052580 1.4014830  \n",
       "           42) MOM_ED< 3.5 247  27.914950 1.3316190 *\n",
       "           43) MOM_ED>=3.5 353  41.088450 1.4503680 *\n",
       "       11) FMOTOR>=6.5 519  75.848690 1.5592290  \n",
       "         22) MOM_ED< 5.5 401  53.948150 1.5032170  \n",
       "           44) INTERP< 2.775 109  15.010890 1.3786240 *\n",
       "           45) INTERP>=2.775 292  36.613580 1.5497260 *\n",
       "         23) MOM_ED>=5.5 118  16.367080 1.7495760 *\n",
       "    3) GENERAL>=23.5 2556 341.497600 1.6858570  \n",
       "      6) MOM_ED< 5.5 1510 198.123500 1.6094770  \n",
       "       12) GENERAL< 31.5 1147 143.924600 1.5692850  \n",
       "         24) FMOTOR< 7.5 788  99.212970 1.5297970  \n",
       "           48) MOM_ED< 3.5 347  44.411700 1.4616140  \n",
       "             96) EXTERN>=1.325 176  23.448540 1.3794320 *\n",
       "             97) EXTERN< 1.325 171  18.551030 1.5461990 *\n",
       "           49) MOM_ED>=3.5 441  51.918760 1.5834470 *\n",
       "         25) FMOTOR>=7.5 359  40.785840 1.6559610 *\n",
       "       13) GENERAL>=31.5 363  46.491490 1.7364740  \n",
       "         26) EXTERN>=2.1 49   5.786612 1.5444900 *\n",
       "         27) EXTERN< 2.1 314  38.617010 1.7664330 *\n",
       "      7) MOM_ED>=5.5 1046 121.848000 1.7961190  \n",
       "       14) GENERAL< 26.5 195  23.172190 1.6610260 *\n",
       "       15) GENERAL>=26.5 851  94.301610 1.8270740  \n",
       "         30) GENERAL< 38.5 780  86.871820 1.8125510  \n",
       "           60) FMOTOR< 6.5 333  39.142250 1.7581380 *\n",
       "           61) FMOTOR>=6.5 447  46.009140 1.8530870 *\n",
       "         31) GENERAL>=38.5 71   5.457989 1.9866200 *"
      ]
     },
     "metadata": {},
     "output_type": "display_data"
    }
   ],
   "source": [
    "Tree.pruned"
   ]
  },
  {
   "cell_type": "code",
   "execution_count": 20,
   "metadata": {},
   "outputs": [
    {
     "name": "stderr",
     "output_type": "stream",
     "text": [
      "randomForest 4.6-14\n",
      "Type rfNews() to see new features/changes/bug fixes.\n"
     ]
    },
    {
     "data": {
      "image/png": "[encoded data removed]",
      "text/plain": [
       "Plot with title \"RF.1\""
      ]
     },
     "metadata": {},
     "output_type": "display_data"
    }
   ],
   "source": [
    "### RANDOM FOREST\n",
    "\n",
    "# install.packages(\"randomForest\")\n",
    "\n",
    "library(randomForest)\n",
    "\n",
    "RF.1 = randomForest(MATH7 ~  GENDER + POVRTY + RACE + KINDER1 +\n",
    "               FMOTOR + GMOTOR + SCONTROL + INTERP + EXTERN + \n",
    "               INTERN + GENERAL + MOM_ED,\n",
    "             data = TRAINING)\n",
    "\n",
    "varImpPlot(RF.1)\n",
    "\n",
    "pred = predict(RF.1, TESTING)"
   ]
  },
  {
   "cell_type": "code",
   "execution_count": 21,
   "metadata": {},
   "outputs": [
    {
     "data": {
      "text/html": [
       "0.30781710726179"
      ],
      "text/latex": [
       "0.30781710726179"
      ],
      "text/markdown": [
       "0.30781710726179"
      ],
      "text/plain": [
       "[1] 0.3078171"
      ]
     },
     "metadata": {},
     "output_type": "display_data"
    }
   ],
   "source": [
    "#R^2\n",
    "cor(pred, TESTING$MATH7)^2"
   ]
  },
  {
   "cell_type": "code",
   "execution_count": null,
   "metadata": {},
   "outputs": [],
   "source": []
  }
 ],
 "metadata": {
  "kernelspec": {
   "display_name": "R",
   "language": "R",
   "name": "ir"
  }
 },
 "nbformat": 4,
 "nbformat_minor": 2
}
